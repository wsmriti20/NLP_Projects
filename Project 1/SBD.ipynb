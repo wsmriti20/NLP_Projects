{
 "cells": [
  {
   "cell_type": "code",
   "execution_count": 1,
   "metadata": {},
   "outputs": [],
   "source": [
    "import pandas as pd\n",
    "import re\n",
    "import math\n",
    "import sklearn\n",
    "from sklearn.tree import DecisionTreeClassifier \n",
    "from sklearn.preprocessing import LabelEncoder"
   ]
  },
  {
   "cell_type": "code",
   "execution_count": 2,
   "metadata": {},
   "outputs": [
    {
     "ename": "FileNotFoundError",
     "evalue": "[Errno 2] File SBD.train does not exist: 'SBD.train'",
     "output_type": "error",
     "traceback": [
      "\u001b[1;31m---------------------------------------------------------------------------\u001b[0m",
      "\u001b[1;31mFileNotFoundError\u001b[0m                         Traceback (most recent call last)",
      "\u001b[1;32m<ipython-input-2-fa896860d7d1>\u001b[0m in \u001b[0;36m<module>\u001b[1;34m\u001b[0m\n\u001b[1;32m----> 1\u001b[1;33m \u001b[0mtrainSet_1\u001b[0m \u001b[1;33m=\u001b[0m \u001b[0mpd\u001b[0m\u001b[1;33m.\u001b[0m\u001b[0mread_csv\u001b[0m\u001b[1;33m(\u001b[0m\u001b[1;34m\"SBD.train\"\u001b[0m\u001b[1;33m,\u001b[0m \u001b[0msep\u001b[0m \u001b[1;33m=\u001b[0m \u001b[1;34m\"\\t\"\u001b[0m\u001b[1;33m,\u001b[0m \u001b[0mheader\u001b[0m \u001b[1;33m=\u001b[0m \u001b[1;32mNone\u001b[0m\u001b[1;33m)\u001b[0m\u001b[1;33m\u001b[0m\u001b[1;33m\u001b[0m\u001b[0m\n\u001b[0m\u001b[0;32m      2\u001b[0m \u001b[0mtestSet_1\u001b[0m \u001b[1;33m=\u001b[0m \u001b[0mpd\u001b[0m\u001b[1;33m.\u001b[0m\u001b[0mread_csv\u001b[0m\u001b[1;33m(\u001b[0m\u001b[1;34m\"SBD.test\"\u001b[0m\u001b[1;33m,\u001b[0m \u001b[0msep\u001b[0m \u001b[1;33m=\u001b[0m \u001b[1;34m\"\\t\"\u001b[0m\u001b[1;33m,\u001b[0m \u001b[0mheader\u001b[0m \u001b[1;33m=\u001b[0m \u001b[1;32mNone\u001b[0m\u001b[1;33m)\u001b[0m\u001b[1;33m\u001b[0m\u001b[1;33m\u001b[0m\u001b[0m\n\u001b[0;32m      3\u001b[0m \u001b[0mtrainSet_2\u001b[0m \u001b[1;33m=\u001b[0m \u001b[0mpd\u001b[0m\u001b[1;33m.\u001b[0m\u001b[0mread_csv\u001b[0m\u001b[1;33m(\u001b[0m\u001b[1;34m\"SBD.train\"\u001b[0m\u001b[1;33m,\u001b[0m \u001b[0msep\u001b[0m \u001b[1;33m=\u001b[0m \u001b[1;34m\"\\t\"\u001b[0m\u001b[1;33m,\u001b[0m \u001b[0mheader\u001b[0m \u001b[1;33m=\u001b[0m \u001b[1;32mNone\u001b[0m\u001b[1;33m)\u001b[0m\u001b[1;33m\u001b[0m\u001b[1;33m\u001b[0m\u001b[0m\n\u001b[0;32m      4\u001b[0m \u001b[0mtestSet_2\u001b[0m \u001b[1;33m=\u001b[0m \u001b[0mpd\u001b[0m\u001b[1;33m.\u001b[0m\u001b[0mread_csv\u001b[0m\u001b[1;33m(\u001b[0m\u001b[1;34m\"SBD.test\"\u001b[0m\u001b[1;33m,\u001b[0m \u001b[0msep\u001b[0m \u001b[1;33m=\u001b[0m \u001b[1;34m\"\\t\"\u001b[0m\u001b[1;33m,\u001b[0m \u001b[0mheader\u001b[0m \u001b[1;33m=\u001b[0m \u001b[1;32mNone\u001b[0m\u001b[1;33m)\u001b[0m\u001b[1;33m\u001b[0m\u001b[1;33m\u001b[0m\u001b[0m\n\u001b[0;32m      5\u001b[0m \u001b[0mtrainSet_3\u001b[0m \u001b[1;33m=\u001b[0m \u001b[0mpd\u001b[0m\u001b[1;33m.\u001b[0m\u001b[0mread_csv\u001b[0m\u001b[1;33m(\u001b[0m\u001b[1;34m\"SBD.train\"\u001b[0m\u001b[1;33m,\u001b[0m \u001b[0msep\u001b[0m \u001b[1;33m=\u001b[0m \u001b[1;34m\"\\t\"\u001b[0m\u001b[1;33m,\u001b[0m \u001b[0mheader\u001b[0m \u001b[1;33m=\u001b[0m \u001b[1;32mNone\u001b[0m\u001b[1;33m)\u001b[0m\u001b[1;33m\u001b[0m\u001b[1;33m\u001b[0m\u001b[0m\n",
      "\u001b[1;32m~\\Miniconda3\\lib\\site-packages\\pandas\\io\\parsers.py\u001b[0m in \u001b[0;36mparser_f\u001b[1;34m(filepath_or_buffer, sep, delimiter, header, names, index_col, usecols, squeeze, prefix, mangle_dupe_cols, dtype, engine, converters, true_values, false_values, skipinitialspace, skiprows, skipfooter, nrows, na_values, keep_default_na, na_filter, verbose, skip_blank_lines, parse_dates, infer_datetime_format, keep_date_col, date_parser, dayfirst, cache_dates, iterator, chunksize, compression, thousands, decimal, lineterminator, quotechar, quoting, doublequote, escapechar, comment, encoding, dialect, error_bad_lines, warn_bad_lines, delim_whitespace, low_memory, memory_map, float_precision)\u001b[0m\n\u001b[0;32m    674\u001b[0m         )\n\u001b[0;32m    675\u001b[0m \u001b[1;33m\u001b[0m\u001b[0m\n\u001b[1;32m--> 676\u001b[1;33m         \u001b[1;32mreturn\u001b[0m \u001b[0m_read\u001b[0m\u001b[1;33m(\u001b[0m\u001b[0mfilepath_or_buffer\u001b[0m\u001b[1;33m,\u001b[0m \u001b[0mkwds\u001b[0m\u001b[1;33m)\u001b[0m\u001b[1;33m\u001b[0m\u001b[1;33m\u001b[0m\u001b[0m\n\u001b[0m\u001b[0;32m    677\u001b[0m \u001b[1;33m\u001b[0m\u001b[0m\n\u001b[0;32m    678\u001b[0m     \u001b[0mparser_f\u001b[0m\u001b[1;33m.\u001b[0m\u001b[0m__name__\u001b[0m \u001b[1;33m=\u001b[0m \u001b[0mname\u001b[0m\u001b[1;33m\u001b[0m\u001b[1;33m\u001b[0m\u001b[0m\n",
      "\u001b[1;32m~\\Miniconda3\\lib\\site-packages\\pandas\\io\\parsers.py\u001b[0m in \u001b[0;36m_read\u001b[1;34m(filepath_or_buffer, kwds)\u001b[0m\n\u001b[0;32m    446\u001b[0m \u001b[1;33m\u001b[0m\u001b[0m\n\u001b[0;32m    447\u001b[0m     \u001b[1;31m# Create the parser.\u001b[0m\u001b[1;33m\u001b[0m\u001b[1;33m\u001b[0m\u001b[1;33m\u001b[0m\u001b[0m\n\u001b[1;32m--> 448\u001b[1;33m     \u001b[0mparser\u001b[0m \u001b[1;33m=\u001b[0m \u001b[0mTextFileReader\u001b[0m\u001b[1;33m(\u001b[0m\u001b[0mfp_or_buf\u001b[0m\u001b[1;33m,\u001b[0m \u001b[1;33m**\u001b[0m\u001b[0mkwds\u001b[0m\u001b[1;33m)\u001b[0m\u001b[1;33m\u001b[0m\u001b[1;33m\u001b[0m\u001b[0m\n\u001b[0m\u001b[0;32m    449\u001b[0m \u001b[1;33m\u001b[0m\u001b[0m\n\u001b[0;32m    450\u001b[0m     \u001b[1;32mif\u001b[0m \u001b[0mchunksize\u001b[0m \u001b[1;32mor\u001b[0m \u001b[0miterator\u001b[0m\u001b[1;33m:\u001b[0m\u001b[1;33m\u001b[0m\u001b[1;33m\u001b[0m\u001b[0m\n",
      "\u001b[1;32m~\\Miniconda3\\lib\\site-packages\\pandas\\io\\parsers.py\u001b[0m in \u001b[0;36m__init__\u001b[1;34m(self, f, engine, **kwds)\u001b[0m\n\u001b[0;32m    878\u001b[0m             \u001b[0mself\u001b[0m\u001b[1;33m.\u001b[0m\u001b[0moptions\u001b[0m\u001b[1;33m[\u001b[0m\u001b[1;34m\"has_index_names\"\u001b[0m\u001b[1;33m]\u001b[0m \u001b[1;33m=\u001b[0m \u001b[0mkwds\u001b[0m\u001b[1;33m[\u001b[0m\u001b[1;34m\"has_index_names\"\u001b[0m\u001b[1;33m]\u001b[0m\u001b[1;33m\u001b[0m\u001b[1;33m\u001b[0m\u001b[0m\n\u001b[0;32m    879\u001b[0m \u001b[1;33m\u001b[0m\u001b[0m\n\u001b[1;32m--> 880\u001b[1;33m         \u001b[0mself\u001b[0m\u001b[1;33m.\u001b[0m\u001b[0m_make_engine\u001b[0m\u001b[1;33m(\u001b[0m\u001b[0mself\u001b[0m\u001b[1;33m.\u001b[0m\u001b[0mengine\u001b[0m\u001b[1;33m)\u001b[0m\u001b[1;33m\u001b[0m\u001b[1;33m\u001b[0m\u001b[0m\n\u001b[0m\u001b[0;32m    881\u001b[0m \u001b[1;33m\u001b[0m\u001b[0m\n\u001b[0;32m    882\u001b[0m     \u001b[1;32mdef\u001b[0m \u001b[0mclose\u001b[0m\u001b[1;33m(\u001b[0m\u001b[0mself\u001b[0m\u001b[1;33m)\u001b[0m\u001b[1;33m:\u001b[0m\u001b[1;33m\u001b[0m\u001b[1;33m\u001b[0m\u001b[0m\n",
      "\u001b[1;32m~\\Miniconda3\\lib\\site-packages\\pandas\\io\\parsers.py\u001b[0m in \u001b[0;36m_make_engine\u001b[1;34m(self, engine)\u001b[0m\n\u001b[0;32m   1112\u001b[0m     \u001b[1;32mdef\u001b[0m \u001b[0m_make_engine\u001b[0m\u001b[1;33m(\u001b[0m\u001b[0mself\u001b[0m\u001b[1;33m,\u001b[0m \u001b[0mengine\u001b[0m\u001b[1;33m=\u001b[0m\u001b[1;34m\"c\"\u001b[0m\u001b[1;33m)\u001b[0m\u001b[1;33m:\u001b[0m\u001b[1;33m\u001b[0m\u001b[1;33m\u001b[0m\u001b[0m\n\u001b[0;32m   1113\u001b[0m         \u001b[1;32mif\u001b[0m \u001b[0mengine\u001b[0m \u001b[1;33m==\u001b[0m \u001b[1;34m\"c\"\u001b[0m\u001b[1;33m:\u001b[0m\u001b[1;33m\u001b[0m\u001b[1;33m\u001b[0m\u001b[0m\n\u001b[1;32m-> 1114\u001b[1;33m             \u001b[0mself\u001b[0m\u001b[1;33m.\u001b[0m\u001b[0m_engine\u001b[0m \u001b[1;33m=\u001b[0m \u001b[0mCParserWrapper\u001b[0m\u001b[1;33m(\u001b[0m\u001b[0mself\u001b[0m\u001b[1;33m.\u001b[0m\u001b[0mf\u001b[0m\u001b[1;33m,\u001b[0m \u001b[1;33m**\u001b[0m\u001b[0mself\u001b[0m\u001b[1;33m.\u001b[0m\u001b[0moptions\u001b[0m\u001b[1;33m)\u001b[0m\u001b[1;33m\u001b[0m\u001b[1;33m\u001b[0m\u001b[0m\n\u001b[0m\u001b[0;32m   1115\u001b[0m         \u001b[1;32melse\u001b[0m\u001b[1;33m:\u001b[0m\u001b[1;33m\u001b[0m\u001b[1;33m\u001b[0m\u001b[0m\n\u001b[0;32m   1116\u001b[0m             \u001b[1;32mif\u001b[0m \u001b[0mengine\u001b[0m \u001b[1;33m==\u001b[0m \u001b[1;34m\"python\"\u001b[0m\u001b[1;33m:\u001b[0m\u001b[1;33m\u001b[0m\u001b[1;33m\u001b[0m\u001b[0m\n",
      "\u001b[1;32m~\\Miniconda3\\lib\\site-packages\\pandas\\io\\parsers.py\u001b[0m in \u001b[0;36m__init__\u001b[1;34m(self, src, **kwds)\u001b[0m\n\u001b[0;32m   1889\u001b[0m         \u001b[0mkwds\u001b[0m\u001b[1;33m[\u001b[0m\u001b[1;34m\"usecols\"\u001b[0m\u001b[1;33m]\u001b[0m \u001b[1;33m=\u001b[0m \u001b[0mself\u001b[0m\u001b[1;33m.\u001b[0m\u001b[0musecols\u001b[0m\u001b[1;33m\u001b[0m\u001b[1;33m\u001b[0m\u001b[0m\n\u001b[0;32m   1890\u001b[0m \u001b[1;33m\u001b[0m\u001b[0m\n\u001b[1;32m-> 1891\u001b[1;33m         \u001b[0mself\u001b[0m\u001b[1;33m.\u001b[0m\u001b[0m_reader\u001b[0m \u001b[1;33m=\u001b[0m \u001b[0mparsers\u001b[0m\u001b[1;33m.\u001b[0m\u001b[0mTextReader\u001b[0m\u001b[1;33m(\u001b[0m\u001b[0msrc\u001b[0m\u001b[1;33m,\u001b[0m \u001b[1;33m**\u001b[0m\u001b[0mkwds\u001b[0m\u001b[1;33m)\u001b[0m\u001b[1;33m\u001b[0m\u001b[1;33m\u001b[0m\u001b[0m\n\u001b[0m\u001b[0;32m   1892\u001b[0m         \u001b[0mself\u001b[0m\u001b[1;33m.\u001b[0m\u001b[0munnamed_cols\u001b[0m \u001b[1;33m=\u001b[0m \u001b[0mself\u001b[0m\u001b[1;33m.\u001b[0m\u001b[0m_reader\u001b[0m\u001b[1;33m.\u001b[0m\u001b[0munnamed_cols\u001b[0m\u001b[1;33m\u001b[0m\u001b[1;33m\u001b[0m\u001b[0m\n\u001b[0;32m   1893\u001b[0m \u001b[1;33m\u001b[0m\u001b[0m\n",
      "\u001b[1;32mpandas\\_libs\\parsers.pyx\u001b[0m in \u001b[0;36mpandas._libs.parsers.TextReader.__cinit__\u001b[1;34m()\u001b[0m\n",
      "\u001b[1;32mpandas\\_libs\\parsers.pyx\u001b[0m in \u001b[0;36mpandas._libs.parsers.TextReader._setup_parser_source\u001b[1;34m()\u001b[0m\n",
      "\u001b[1;31mFileNotFoundError\u001b[0m: [Errno 2] File SBD.train does not exist: 'SBD.train'"
     ]
    }
   ],
   "source": [
    "trainSet_1 = pd.read_csv(\"SBD.train\", sep = \"\\t\", header = None)\n",
    "testSet_1 = pd.read_csv(\"SBD.test\", sep = \"\\t\", header = None)\n",
    "trainSet_2 = pd.read_csv(\"SBD.train\", sep = \"\\t\", header = None)\n",
    "testSet_2 = pd.read_csv(\"SBD.test\", sep = \"\\t\", header = None)\n",
    "trainSet_3 = pd.read_csv(\"SBD.train\", sep = \"\\t\", header = None)\n",
    "testSet_3 = pd.read_csv(\"SBD.test\", sep = \"\\t\", header = None)"
   ]
  },
  {
   "cell_type": "code",
   "execution_count": 33,
   "metadata": {},
   "outputs": [],
   "source": [
    "train_1 = trainSet_1[trainSet_1.columns[0]].str.split(\" \", n = 2, expand = True) \n",
    "test_1 = testSet_1[testSet_1.columns[0]].str.split(\" \", n = 2, expand = True)  \n",
    "train_2 = trainSet_2[trainSet_2.columns[0]].str.split(\" \", n = 2, expand = True) \n",
    "test_2 = testSet_2[testSet_2.columns[0]].str.split(\" \", n = 2, expand = True)  \n",
    "train_3 = trainSet_3[trainSet_3.columns[0]].str.split(\" \", n = 2, expand = True) \n",
    "test_3 = testSet_3[testSet_3.columns[0]].str.split(\" \", n = 2, expand = True)  "
   ]
  },
  {
   "cell_type": "code",
   "execution_count": 34,
   "metadata": {},
   "outputs": [],
   "source": [
    "train_1 = train_1.drop(train_1.columns[[0]], axis = 1)\n",
    "test_1 = test_1.drop(test_1.columns[[0]], axis = 1)\n",
    "\n",
    "train_2 = train_2.drop(train_2.columns[[0]], axis = 1)\n",
    "test_2 = test_2.drop(test_2.columns[[0]], axis = 1)\n",
    "\n",
    "train_3 = train_3.drop(train_3.columns[[0]], axis = 1)\n",
    "test_3 = test_3.drop(test_3.columns[[0]], axis = 1)"
   ]
  },
  {
   "cell_type": "code",
   "execution_count": 35,
   "metadata": {},
   "outputs": [],
   "source": [
    "train_1.columns = ['Words', 'labels']\n",
    "test_1.columns = ['Words', 'labels']\n",
    "\n",
    "train_2.columns = ['Words', 'labels']\n",
    "test_2.columns = ['Words', 'labels']\n",
    "\n",
    "train_3.columns = ['Words', 'labels']\n",
    "test_3.columns = ['Words', 'labels']\n"
   ]
  },
  {
   "cell_type": "code",
   "execution_count": 36,
   "metadata": {},
   "outputs": [],
   "source": [
    "def getTheLeftWord (row):\n",
    "    if row[\"Words\"].find(\".\") != -1:\n",
    "        \n",
    "        extractWord = row[\"Words\"].split(\".\")\n",
    "        if \"\" in extractWord:\n",
    "            extractWord.remove(\"\")\n",
    "\n",
    "        extractWord = extractWord[0]\n",
    "        return extractWord\n",
    "    else: return \"-\""
   ]
  },
  {
   "cell_type": "markdown",
   "metadata": {},
   "source": [
    "Features:\n",
    "1. Words to the left of \".\"\n",
    "2. Words to the right of \".\"\n",
    "3. Length of L < 3\n",
    "4. Is R capitalized?\n",
    "5. Is L capitalized?\n",
    "The additional features are a below:\n",
    "6. Is there a \" to left?\n",
    "7. Is there a \" to the right?\n",
    "8. Is R a numeric (float or digit)?\n"
   ]
  },
  {
   "cell_type": "code",
   "execution_count": 37,
   "metadata": {},
   "outputs": [],
   "source": [
    "# Feature 1\n",
    "# Finding words to the left\n",
    "#edge case: None if 1st row\n",
    "train_1[\"L\"] = train_1.apply (lambda x: getTheLeftWord(x), axis = 1)\n",
    "test_1[\"L\"] = test_1.apply (lambda x: getTheLeftWord(x), axis = 1)\n",
    "\n",
    "train_2[\"L\"] = train_2.apply (lambda x: getTheLeftWord(x), axis = 1)\n",
    "test_2[\"L\"] = test_2.apply (lambda x: getTheLeftWord(x), axis = 1)"
   ]
  },
  {
   "cell_type": "code",
   "execution_count": 38,
   "metadata": {},
   "outputs": [],
   "source": [
    "# Feature 2\n",
    "# Finding words to the Right\n",
    "train_1[\"R\"] = train_1[\"Words\"].shift(-1, axis = 0) \n",
    "test_1[\"R\"] = test_1[\"Words\"].shift(-1, axis = 0) \n",
    "\n",
    "train_2[\"R\"] = train_2[\"Words\"].shift(-1, axis = 0) \n",
    "test_2[\"R\"] = test_2[\"Words\"].shift(-1, axis = 0) \n",
    "# new"
   ]
  },
  {
   "cell_type": "code",
   "execution_count": 39,
   "metadata": {},
   "outputs": [],
   "source": [
    "# check if we have a word in the first place\n",
    "def isLessThan3 (row):\n",
    "    if isinstance(row[\"L\"], str) :\n",
    "        if (re.search('[a-zA-Z]', row[\"L\"])):\n",
    "            if (len(row[\"L\"])<3):\n",
    "                return True\n",
    "            else:\n",
    "                return False\n",
    "    \n",
    "    return False"
   ]
  },
  {
   "cell_type": "code",
   "execution_count": 40,
   "metadata": {},
   "outputs": [],
   "source": [
    "# Feature 3\n",
    "# If L < 3?\n",
    "train_1[\"L < 3\"] = train_1.apply (lambda x: isLessThan3(x), axis = 1)\n",
    "test_1[\"L < 3\"] = test_1.apply (lambda x: isLessThan3(x), axis = 1)\n",
    "\n",
    "train_2[\"L < 3\"] = train_2.apply (lambda x: isLessThan3(x), axis = 1)\n",
    "test_2[\"L < 3\"] = test_2.apply (lambda x: isLessThan3(x), axis = 1)"
   ]
  },
  {
   "cell_type": "code",
   "execution_count": 41,
   "metadata": {},
   "outputs": [],
   "source": [
    "# check for punctuation, ensure it is alpha, NaN\n",
    "def isWordCapitalized (entry):\n",
    "    if isinstance(entry, str) :\n",
    "        if (re.search('[a-zA-Z]', entry)):\n",
    "            if entry[0].isupper():\n",
    "                return True\n",
    "            else:\n",
    "                return False\n",
    "    return False\n",
    "    "
   ]
  },
  {
   "cell_type": "code",
   "execution_count": 42,
   "metadata": {},
   "outputs": [],
   "source": [
    "# Feature 4\n",
    "# If L is Capitalized\n",
    "train_1[\"L Captilaized\"] = train_1.apply (lambda x: isWordCapitalized(x[\"L\"]), axis = 1)\n",
    "test_1[\"L Captilaized\"] = test_1.apply (lambda x: isWordCapitalized(x[\"L\"]), axis = 1)\n",
    "\n",
    "train_2[\"L Captilaized\"] = train_2.apply (lambda x: isWordCapitalized(x[\"L\"]), axis = 1)\n",
    "test_2[\"L Captilaized\"] = test_2.apply (lambda x: isWordCapitalized(x[\"L\"]), axis = 1)"
   ]
  },
  {
   "cell_type": "code",
   "execution_count": 43,
   "metadata": {},
   "outputs": [],
   "source": [
    "# Feature 5\n",
    "# If R is Capitalized\n",
    "train_1[\"R Captilaized\"] = train_1.apply (lambda x: isWordCapitalized(x[\"R\"]), axis = 1)\n",
    "test_1[\"R Captilaized\"] = test_1.apply (lambda x: isWordCapitalized(x[\"R\"]), axis = 1)\n",
    "\n",
    "train_2[\"R Captilaized\"] = train_2.apply (lambda x: isWordCapitalized(x[\"R\"]), axis = 1)\n",
    "test_2[\"R Captilaized\"] = test_2.apply (lambda x: isWordCapitalized(x[\"R\"]), axis = 1)"
   ]
  },
  {
   "cell_type": "code",
   "execution_count": 44,
   "metadata": {},
   "outputs": [
    {
     "data": {
      "text/html": [
       "<div>\n",
       "<style scoped>\n",
       "    .dataframe tbody tr th:only-of-type {\n",
       "        vertical-align: middle;\n",
       "    }\n",
       "\n",
       "    .dataframe tbody tr th {\n",
       "        vertical-align: top;\n",
       "    }\n",
       "\n",
       "    .dataframe thead th {\n",
       "        text-align: right;\n",
       "    }\n",
       "</style>\n",
       "<table border=\"1\" class=\"dataframe\">\n",
       "  <thead>\n",
       "    <tr style=\"text-align: right;\">\n",
       "      <th></th>\n",
       "      <th>Words</th>\n",
       "      <th>labels</th>\n",
       "    </tr>\n",
       "  </thead>\n",
       "  <tbody>\n",
       "    <tr>\n",
       "      <th>1</th>\n",
       "      <td>Mr.</td>\n",
       "      <td>NEOS</td>\n",
       "    </tr>\n",
       "    <tr>\n",
       "      <th>24</th>\n",
       "      <td>Japan.</td>\n",
       "      <td>EOS</td>\n",
       "    </tr>\n",
       "    <tr>\n",
       "      <th>40</th>\n",
       "      <td>says.</td>\n",
       "      <td>EOS</td>\n",
       "    </tr>\n",
       "    <tr>\n",
       "      <th>56</th>\n",
       "      <td>Mr.</td>\n",
       "      <td>NEOS</td>\n",
       "    </tr>\n",
       "    <tr>\n",
       "      <th>61</th>\n",
       "      <td>changes.</td>\n",
       "      <td>EOS</td>\n",
       "    </tr>\n",
       "    <tr>\n",
       "      <th>...</th>\n",
       "      <td>...</td>\n",
       "      <td>...</td>\n",
       "    </tr>\n",
       "    <tr>\n",
       "      <th>148527</th>\n",
       "      <td>conviction.</td>\n",
       "      <td>EOS</td>\n",
       "    </tr>\n",
       "    <tr>\n",
       "      <th>148572</th>\n",
       "      <td>appeals.</td>\n",
       "      <td>EOS</td>\n",
       "    </tr>\n",
       "    <tr>\n",
       "      <th>148593</th>\n",
       "      <td>inmates.</td>\n",
       "      <td>EOS</td>\n",
       "    </tr>\n",
       "    <tr>\n",
       "      <th>148622</th>\n",
       "      <td>states.</td>\n",
       "      <td>EOS</td>\n",
       "    </tr>\n",
       "    <tr>\n",
       "      <th>148646</th>\n",
       "      <td>said.</td>\n",
       "      <td>EOS</td>\n",
       "    </tr>\n",
       "  </tbody>\n",
       "</table>\n",
       "<p>8370 rows × 2 columns</p>\n",
       "</div>"
      ],
      "text/plain": [
       "              Words labels\n",
       "1               Mr.   NEOS\n",
       "24           Japan.    EOS\n",
       "40            says.    EOS\n",
       "56              Mr.   NEOS\n",
       "61         changes.    EOS\n",
       "...             ...    ...\n",
       "148527  conviction.    EOS\n",
       "148572     appeals.    EOS\n",
       "148593     inmates.    EOS\n",
       "148622      states.    EOS\n",
       "148646        said.    EOS\n",
       "\n",
       "[8370 rows x 2 columns]"
      ]
     },
     "execution_count": 44,
     "metadata": {},
     "output_type": "execute_result"
    }
   ],
   "source": [
    "train_1.drop(train_1[train_1['labels'] == \"TOK\"].index, inplace = True) \n",
    "test_1.drop(test_1[test_1['labels'] == \"TOK\"].index, inplace = True) \n",
    "\n",
    "train_2.drop(train_2[train_2['labels'] == \"TOK\"].index, inplace = True) \n",
    "test_2.drop(test_2[test_2['labels'] == \"TOK\"].index, inplace = True) \n",
    "\n",
    "train_3.drop(train_3[train_3['labels'] == \"TOK\"].index, inplace = True) \n",
    "test_3.drop(test_3[test_3['labels'] == \"TOK\"].index, inplace = True) "
   ]
  },
  {
   "cell_type": "code",
   "execution_count": 45,
   "metadata": {},
   "outputs": [],
   "source": [
    "def ifQuotationMark (entry):\n",
    "    if isinstance(entry, str) :\n",
    "        entry = entry.strip()\n",
    "        if entry == \"\\\"\" or entry == \"\\'\":\n",
    "            return True\n",
    "    return False"
   ]
  },
  {
   "cell_type": "code",
   "execution_count": 46,
   "metadata": {},
   "outputs": [],
   "source": [
    "# Feature 6\n",
    "# Is R a \" or '?\n",
    "train_1[\"R Quote\"] = train_1.apply (lambda x: ifQuotationMark(x[\"R\"]), axis = 1)\n",
    "test_1[\"R Quote\"] = test_1.apply (lambda x: ifQuotationMark(x[\"R\"]), axis = 1)\n",
    "\n",
    "train_3[\"R Quote\"] = train_1.apply (lambda x: ifQuotationMark(x[\"R\"]), axis = 1)\n",
    "test_3[\"R Quote\"] = test_1.apply (lambda x: ifQuotationMark(x[\"R\"]), axis = 1)"
   ]
  },
  {
   "cell_type": "code",
   "execution_count": 47,
   "metadata": {},
   "outputs": [],
   "source": [
    "# Feature 7\n",
    "# Is L a \" or '?\n",
    "train_1[\"L Quote\"] = train_1.apply (lambda x: ifQuotationMark(x[\"L\"]), axis = 1)\n",
    "test_1[\"L Quote\"] = test_1.apply (lambda x: ifQuotationMark(x[\"L\"]), axis = 1)\n",
    "\n",
    "train_3[\"L Quote\"] = train_1.apply (lambda x: ifQuotationMark(x[\"L\"]), axis = 1)\n",
    "test_3[\"L Quote\"] = test_1.apply (lambda x: ifQuotationMark(x[\"L\"]), axis = 1)"
   ]
  },
  {
   "cell_type": "code",
   "execution_count": 48,
   "metadata": {},
   "outputs": [],
   "source": [
    "def is_number(string):\n",
    "    try:\n",
    "        float(string)\n",
    "        return True\n",
    "    except ValueError:\n",
    "        return False"
   ]
  },
  {
   "cell_type": "code",
   "execution_count": 49,
   "metadata": {},
   "outputs": [],
   "source": [
    "# Feature 8\n",
    "# Is R a digit?\n",
    "train_1[\"R Digit\"] = train_1.apply (lambda x: is_number(x[\"R\"]), axis = 1)\n",
    "test_1[\"R Digit\"] = test_1.apply (lambda x: is_number(x[\"R\"]), axis = 1)\n",
    "\n",
    "train_3[\"R Digit\"] = train_1.apply (lambda x: is_number(x[\"R\"]), axis = 1)\n",
    "test_3[\"R Digit\"] = test_1.apply (lambda x: is_number(x[\"R\"]), axis = 1)"
   ]
  },
  {
   "cell_type": "code",
   "execution_count": 50,
   "metadata": {},
   "outputs": [],
   "source": [
    "y_train_1 = train_1.labels\n",
    "x_train_1 = train_1.drop([\"Words\", \"labels\"], axis = 1)\n",
    "\n",
    "x_test_1 = test_1.drop([\"Words\", \"labels\"], axis = 1)\n",
    "y_test_1 = test_1.labels\n",
    "\n",
    "y_train_2 = train_2.labels\n",
    "x_train_2 = train_2.drop([\"Words\", \"labels\"], axis = 1)\n",
    "\n",
    "x_test_2 = test_2.drop([\"Words\", \"labels\"], axis = 1)\n",
    "y_test_2 = test_2.labels\n",
    "\n",
    "y_train_3 = train_3.labels\n",
    "x_train_3 = train_3.drop([\"Words\", \"labels\"], axis = 1)\n",
    "\n",
    "x_test_3 = test_3.drop([\"Words\", \"labels\"], axis = 1)\n",
    "y_test_3 = test_3.labels"
   ]
  },
  {
   "cell_type": "code",
   "execution_count": 51,
   "metadata": {},
   "outputs": [],
   "source": [
    "le = LabelEncoder()\n",
    "x_train_1[\"L\"] = x_train_1[\"L\"].astype(str)\n",
    "x_train_1[\"R\"] = x_train_1[\"R\"].astype(str)\n",
    "\n",
    "x_train_1[\"L\"] = le.fit_transform(x_train_1[\"L\"])\n",
    "x_train_1[\"R\"] = le.fit_transform(x_train_1[\"R\"])\n",
    "\n",
    "x_train_2[\"L\"] = x_train_2[\"L\"].astype(str)\n",
    "x_train_2[\"R\"] = x_train_2[\"R\"].astype(str)\n",
    "\n",
    "x_train_2[\"L\"] = le.fit_transform(x_train_2[\"L\"])\n",
    "x_train_2[\"R\"] = le.fit_transform(x_train_2[\"R\"])\n"
   ]
  },
  {
   "cell_type": "code",
   "execution_count": 52,
   "metadata": {},
   "outputs": [],
   "source": [
    "le = LabelEncoder()\n",
    "x_test_1[\"L\"] = x_test_1[\"L\"].astype(str)\n",
    "x_test_1[\"R\"] = x_test_1[\"R\"].astype(str)\n",
    "\n",
    "x_test_1[\"L\"] = le.fit_transform(x_test_1[\"L\"])\n",
    "x_test_1[\"R\"] = le.fit_transform(x_test_1[\"R\"])\n",
    "\n",
    "x_test_2[\"L\"] = x_test_2[\"L\"].astype(str)\n",
    "x_test_2[\"R\"] = x_test_2[\"R\"].astype(str)\n",
    "\n",
    "x_test_2[\"L\"] = le.fit_transform(x_test_2[\"L\"])\n",
    "x_test_2[\"R\"] = le.fit_transform(x_test_2[\"R\"])"
   ]
  },
  {
   "cell_type": "code",
   "execution_count": 53,
   "metadata": {},
   "outputs": [],
   "source": [
    "Clf = DecisionTreeClassifier(criterion = \"entropy\")\n",
    "Clf = Clf.fit(x_train_1, y_train_1)\n",
    "y_pred_1 = Clf.predict(x_test_1)"
   ]
  },
  {
   "cell_type": "code",
   "execution_count": 54,
   "metadata": {},
   "outputs": [
    {
     "name": "stdout",
     "output_type": "stream",
     "text": [
      "Accuracy for the 8 features: 89.3667861409797\n"
     ]
    }
   ],
   "source": [
    "print(\"Accuracy for the 8 features:\",metrics.accuracy_score(y_test_1, y_pred_1)*100)"
   ]
  },
  {
   "cell_type": "code",
   "execution_count": 55,
   "metadata": {},
   "outputs": [],
   "source": [
    "Clf = DecisionTreeClassifier(criterion = \"entropy\")\n",
    "Clf = Clf.fit(x_train_2, y_train_2)\n",
    "y_pred_2 = Clf.predict(x_test_2)"
   ]
  },
  {
   "cell_type": "code",
   "execution_count": 56,
   "metadata": {},
   "outputs": [
    {
     "name": "stdout",
     "output_type": "stream",
     "text": [
      "Accuracy for the 5 features: 89.06810035842294\n"
     ]
    }
   ],
   "source": [
    "print(\"Accuracy for the 5 features:\",metrics.accuracy_score(y_test_2, y_pred_2)*100)"
   ]
  },
  {
   "cell_type": "code",
   "execution_count": 57,
   "metadata": {},
   "outputs": [],
   "source": [
    "Clf = DecisionTreeClassifier(criterion = \"entropy\")\n",
    "Clf = Clf.fit(x_train_3, y_train_3)\n",
    "y_pred_3 = Clf.predict(x_test_3)"
   ]
  },
  {
   "cell_type": "code",
   "execution_count": 58,
   "metadata": {},
   "outputs": [
    {
     "name": "stdout",
     "output_type": "stream",
     "text": [
      "Accuracy for the 3 features: 76.88172043010752\n"
     ]
    }
   ],
   "source": [
    "print(\"Accuracy for the 3 features:\",metrics.accuracy_score(y_test_3, y_pred_3)*100)"
   ]
  }
 ],
 "metadata": {
  "kernelspec": {
   "display_name": "Python 3",
   "language": "python",
   "name": "python3"
  },
  "language_info": {
   "codemirror_mode": {
    "name": "ipython",
    "version": 3
   },
   "file_extension": ".py",
   "mimetype": "text/x-python",
   "name": "python",
   "nbconvert_exporter": "python",
   "pygments_lexer": "ipython3",
   "version": "3.7.7"
  }
 },
 "nbformat": 4,
 "nbformat_minor": 4
}
