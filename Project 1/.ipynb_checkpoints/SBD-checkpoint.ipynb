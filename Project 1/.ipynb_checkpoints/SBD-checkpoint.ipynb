{
 "cells": [
  {
   "cell_type": "code",
   "execution_count": 31,
   "metadata": {},
   "outputs": [],
   "source": [
    "import pandas as pd\n",
    "import re\n",
    "import math\n",
    "import sklearn\n",
    "from sklearn.tree import DecisionTreeClassifier \n",
    "from sklearn.preprocessing import LabelEncoder"
   ]
  },
  {
   "cell_type": "code",
   "execution_count": 32,
   "metadata": {},
   "outputs": [],
   "source": [
    "trainSet_1 = pd.read_csv(\"SBD.train\", sep = \"\\t\", header = None)\n",
    "testSet_1 = pd.read_csv(\"SBD.test\", sep = \"\\t\", header = None)\n",
    "trainSet_2 = pd.read_csv(\"SBD.train\", sep = \"\\t\", header = None)\n",
    "testSet_2 = pd.read_csv(\"SBD.test\", sep = \"\\t\", header = None)\n",
    "trainSet_3 = pd.read_csv(\"SBD.train\", sep = \"\\t\", header = None)\n",
    "testSet_3 = pd.read_csv(\"SBD.test\", sep = \"\\t\", header = None)"
   ]
  },
  {
   "cell_type": "code",
   "execution_count": 33,
   "metadata": {},
   "outputs": [],
   "source": [
    "train_1 = trainSet_1[trainSet_1.columns[0]].str.split(\" \", n = 2, expand = True) \n",
    "test_1 = testSet_1[testSet_1.columns[0]].str.split(\" \", n = 2, expand = True)  \n",
    "train_2 = trainSet_2[trainSet_2.columns[0]].str.split(\" \", n = 2, expand = True) \n",
    "test_2 = testSet_2[testSet_2.columns[0]].str.split(\" \", n = 2, expand = True)  \n",
    "train_3 = trainSet_3[trainSet_3.columns[0]].str.split(\" \", n = 2, expand = True) \n",
    "test_3 = testSet_3[testSet_3.columns[0]].str.split(\" \", n = 2, expand = True)  "
   ]
  },
  {
   "cell_type": "code",
   "execution_count": 34,
   "metadata": {},
   "outputs": [],
   "source": [
    "train_1 = train_1.drop(train_1.columns[[0]], axis = 1)\n",
    "test_1 = test_1.drop(test_1.columns[[0]], axis = 1)\n",
    "\n",
    "train_2 = train_2.drop(train_2.columns[[0]], axis = 1)\n",
    "test_2 = test_2.drop(test_2.columns[[0]], axis = 1)\n",
    "\n",
    "train_3 = train_3.drop(train_3.columns[[0]], axis = 1)\n",
    "test_3 = test_3.drop(test_3.columns[[0]], axis = 1)"
   ]
  },
  {
   "cell_type": "code",
   "execution_count": 35,
   "metadata": {},
   "outputs": [],
   "source": [
    "train_1.columns = ['Words', 'labels']\n",
    "test_1.columns = ['Words', 'labels']\n",
    "\n",
    "train_2.columns = ['Words', 'labels']\n",
    "test_2.columns = ['Words', 'labels']\n",
    "\n",
    "train_3.columns = ['Words', 'labels']\n",
    "test_3.columns = ['Words', 'labels']\n"
   ]
  },
  {
   "cell_type": "code",
   "execution_count": 36,
   "metadata": {},
   "outputs": [],
   "source": [
    "def getTheLeftWord (row):\n",
    "    if row[\"Words\"].find(\".\") != -1:\n",
    "        \n",
    "        extractWord = row[\"Words\"].split(\".\")\n",
    "        if \"\" in extractWord:\n",
    "            extractWord.remove(\"\")\n",
    "\n",
    "        extractWord = extractWord[0]\n",
    "        return extractWord\n",
    "    else: return \"-\""
   ]
  },
  {
   "cell_type": "markdown",
   "metadata": {},
   "source": [
    "Features:\n",
    "1. Words to the left of \".\"\n",
    "2. Words to the right of \".\"\n",
    "3. Length of L < 3\n",
    "4. Is R capitalized?\n",
    "5. Is L capitalized?\n",
    "The additional features are a below:\n",
    "6. Is there a \" to left?\n",
    "7. Is there a \" to the right?\n",
    "8. Is R a numeric (float or digit)?\n"
   ]
  },
  {
   "cell_type": "code",
   "execution_count": 37,
   "metadata": {},
   "outputs": [],
   "source": [
    "# Feature 1\n",
    "# Finding words to the left\n",
    "#edge case: None if 1st row\n",
    "train_1[\"L\"] = train_1.apply (lambda x: getTheLeftWord(x), axis = 1)\n",
    "test_1[\"L\"] = test_1.apply (lambda x: getTheLeftWord(x), axis = 1)\n",
    "\n",
    "train_2[\"L\"] = train_2.apply (lambda x: getTheLeftWord(x), axis = 1)\n",
    "test_2[\"L\"] = test_2.apply (lambda x: getTheLeftWord(x), axis = 1)"
   ]
  },
  {
   "cell_type": "code",
   "execution_count": 38,
   "metadata": {},
   "outputs": [],
   "source": [
    "# Feature 2\n",
    "# Finding words to the Right\n",
    "train_1[\"R\"] = train_1[\"Words\"].shift(-1, axis = 0) \n",
    "test_1[\"R\"] = test_1[\"Words\"].shift(-1, axis = 0) \n",
    "\n",
    "train_2[\"R\"] = train_2[\"Words\"].shift(-1, axis = 0) \n",
    "test_2[\"R\"] = test_2[\"Words\"].shift(-1, axis = 0) \n",
    "# new"
   ]
  },
  {
   "cell_type": "code",
   "execution_count": 39,
   "metadata": {},
   "outputs": [],
   "source": [
    "# check if we have a word in the first place\n",
    "def isLessThan3 (row):\n",
    "    if isinstance(row[\"L\"], str) :\n",
    "        if (re.search('[a-zA-Z]', row[\"L\"])):\n",
    "            if (len(row[\"L\"])<3):\n",
    "                return True\n",
    "            else:\n",
    "                return False\n",
    "    \n",
    "    return False"
   ]
  },
  {
   "cell_type": "code",
   "execution_count": 40,
   "metadata": {},
   "outputs": [],
   "source": [
    "# Feature 3\n",
    "# If L < 3?\n",
    "train_1[\"L < 3\"] = train_1.apply (lambda x: isLessThan3(x), axis = 1)\n",
    "test_1[\"L < 3\"] = test_1.apply (lambda x: isLessThan3(x), axis = 1)\n",
    "\n",
    "train_2[\"L < 3\"] = train_2.apply (lambda x: isLessThan3(x), axis = 1)\n",
    "test_2[\"L < 3\"] = test_2.apply (lambda x: isLessThan3(x), axis = 1)"
   ]
  },
  {
   "cell_type": "code",
   "execution_count": 41,
   "metadata": {},
   "outputs": [],
   "source": [
    "# check for punctuation, ensure it is alpha, NaN\n",
    "def isWordCapitalized (entry):\n",
    "    if isinstance(entry, str) :\n",
    "        if (re.search('[a-zA-Z]', entry)):\n",
    "            if entry[0].isupper():\n",
    "                return True\n",
    "            else:\n",
    "                return False\n",
    "    return False\n",
    "    "
   ]
  },
  {
   "cell_type": "code",
   "execution_count": 42,
   "metadata": {},
   "outputs": [],
   "source": [
    "# Feature 4\n",
    "# If L is Capitalized\n",
    "train_1[\"L Captilaized\"] = train_1.apply (lambda x: isWordCapitalized(x[\"L\"]), axis = 1)\n",
    "test_1[\"L Captilaized\"] = test_1.apply (lambda x: isWordCapitalized(x[\"L\"]), axis = 1)\n",
    "\n",
    "train_2[\"L Captilaized\"] = train_2.apply (lambda x: isWordCapitalized(x[\"L\"]), axis = 1)\n",
    "test_2[\"L Captilaized\"] = test_2.apply (lambda x: isWordCapitalized(x[\"L\"]), axis = 1)"
   ]
  },
  {
   "cell_type": "code",
   "execution_count": 43,
   "metadata": {},
   "outputs": [],
   "source": [
    "# Feature 5\n",
    "# If R is Capitalized\n",
    "train_1[\"R Captilaized\"] = train_1.apply (lambda x: isWordCapitalized(x[\"R\"]), axis = 1)\n",
    "test_1[\"R Captilaized\"] = test_1.apply (lambda x: isWordCapitalized(x[\"R\"]), axis = 1)\n",
    "\n",
    "train_2[\"R Captilaized\"] = train_2.apply (lambda x: isWordCapitalized(x[\"R\"]), axis = 1)\n",
    "test_2[\"R Captilaized\"] = test_2.apply (lambda x: isWordCapitalized(x[\"R\"]), axis = 1)"
   ]
  },
  {
   "cell_type": "code",
   "execution_count": 44,
   "metadata": {},
   "outputs": [
    {
     "data": {
      "text/html": [
       "<div>\n",
       "<style scoped>\n",
       "    .dataframe tbody tr th:only-of-type {\n",
       "        vertical-align: middle;\n",
       "    }\n",
       "\n",
       "    .dataframe tbody tr th {\n",
       "        vertical-align: top;\n",
       "    }\n",
       "\n",
       "    .dataframe thead th {\n",
       "        text-align: right;\n",
       "    }\n",
       "</style>\n",
       "<table border=\"1\" class=\"dataframe\">\n",
       "  <thead>\n",
       "    <tr style=\"text-align: right;\">\n",
       "      <th></th>\n",
       "      <th>Words</th>\n",
       "      <th>labels</th>\n",
       "    </tr>\n",
       "  </thead>\n",
       "  <tbody>\n",
       "    <tr>\n",
       "      <th>1</th>\n",
       "      <td>Mr.</td>\n",
       "      <td>NEOS</td>\n",
       "    </tr>\n",
       "    <tr>\n",
       "      <th>24</th>\n",
       "      <td>Japan.</td>\n",
       "      <td>EOS</td>\n",
       "    </tr>\n",
       "    <tr>\n",
       "      <th>40</th>\n",
       "      <td>says.</td>\n",
       "      <td>EOS</td>\n",
       "    </tr>\n",
       "    <tr>\n",
       "      <th>56</th>\n",
       "      <td>Mr.</td>\n",
       "      <td>NEOS</td>\n",
       "    </tr>\n",
       "    <tr>\n",
       "      <th>61</th>\n",
       "      <td>changes.</td>\n",
       "      <td>EOS</td>\n",
       "    </tr>\n",
       "    <tr>\n",
       "      <th>...</th>\n",
       "      <td>...</td>\n",
       "      <td>...</td>\n",
       "    </tr>\n",
       "    <tr>\n",
       "      <th>148527</th>\n",
       "      <td>conviction.</td>\n",
       "      <td>EOS</td>\n",
       "    </tr>\n",
       "    <tr>\n",
       "      <th>148572</th>\n",
       "      <td>appeals.</td>\n",
       "      <td>EOS</td>\n",
       "    </tr>\n",
       "    <tr>\n",
       "      <th>148593</th>\n",
       "      <td>inmates.</td>\n",
       "      <td>EOS</td>\n",
       "    </tr>\n",
       "    <tr>\n",
       "      <th>148622</th>\n",
       "      <td>states.</td>\n",
       "      <td>EOS</td>\n",
       "    </tr>\n",
       "    <tr>\n",
       "      <th>148646</th>\n",
       "      <td>said.</td>\n",
       "      <td>EOS</td>\n",
       "    </tr>\n",
       "  </tbody>\n",
       "</table>\n",
       "<p>8370 rows × 2 columns</p>\n",
       "</div>"
      ],
      "text/plain": [
       "              Words labels\n",
       "1               Mr.   NEOS\n",
       "24           Japan.    EOS\n",
       "40            says.    EOS\n",
       "56              Mr.   NEOS\n",
       "61         changes.    EOS\n",
       "...             ...    ...\n",
       "148527  conviction.    EOS\n",
       "148572     appeals.    EOS\n",
       "148593     inmates.    EOS\n",
       "148622      states.    EOS\n",
       "148646        said.    EOS\n",
       "\n",
       "[8370 rows x 2 columns]"
      ]
     },
     "execution_count": 44,
     "metadata": {},
     "output_type": "execute_result"
    }
   ],
   "source": [
    "train_1.drop(train_1[train_1['labels'] == \"TOK\"].index, inplace = True) \n",
    "test_1.drop(test_1[test_1['labels'] == \"TOK\"].index, inplace = True) \n",
    "\n",
    "train_2.drop(train_2[train_2['labels'] == \"TOK\"].index, inplace = True) \n",
    "test_2.drop(test_2[test_2['labels'] == \"TOK\"].index, inplace = True) \n",
    "\n",
    "train_3.drop(train_3[train_3['labels'] == \"TOK\"].index, inplace = True) \n",
    "test_3.drop(test_3[test_3['labels'] == \"TOK\"].index, inplace = True) "
   ]
  },
  {
   "cell_type": "code",
   "execution_count": 45,
   "metadata": {},
   "outputs": [],
   "source": [
    "def ifQuotationMark (entry):\n",
    "    if isinstance(entry, str) :\n",
    "        entry = entry.strip()\n",
    "        if entry == \"\\\"\" or entry == \"\\'\":\n",
    "            return True\n",
    "    return False"
   ]
  },
  {
   "cell_type": "code",
   "execution_count": 46,
   "metadata": {},
   "outputs": [],
   "source": [
    "# Feature 6\n",
    "# Is R a \" or '?\n",
    "train_1[\"R Quote\"] = train_1.apply (lambda x: ifQuotationMark(x[\"R\"]), axis = 1)\n",
    "test_1[\"R Quote\"] = test_1.apply (lambda x: ifQuotationMark(x[\"R\"]), axis = 1)\n",
    "\n",
    "train_3[\"R Quote\"] = train_1.apply (lambda x: ifQuotationMark(x[\"R\"]), axis = 1)\n",
    "test_3[\"R Quote\"] = test_1.apply (lambda x: ifQuotationMark(x[\"R\"]), axis = 1)"
   ]
  },
  {
   "cell_type": "code",
   "execution_count": 47,
   "metadata": {},
   "outputs": [],
   "source": [
    "# Feature 7\n",
    "# Is L a \" or '?\n",
    "train_1[\"L Quote\"] = train_1.apply (lambda x: ifQuotationMark(x[\"L\"]), axis = 1)\n",
    "test_1[\"L Quote\"] = test_1.apply (lambda x: ifQuotationMark(x[\"L\"]), axis = 1)\n",
    "\n",
    "train_3[\"L Quote\"] = train_1.apply (lambda x: ifQuotationMark(x[\"L\"]), axis = 1)\n",
    "test_3[\"L Quote\"] = test_1.apply (lambda x: ifQuotationMark(x[\"L\"]), axis = 1)"
   ]
  },
  {
   "cell_type": "code",
   "execution_count": 48,
   "metadata": {},
   "outputs": [],
   "source": [
    "def is_number(string):\n",
    "    try:\n",
    "        float(string)\n",
    "        return True\n",
    "    except ValueError:\n",
    "        return False"
   ]
  },
  {
   "cell_type": "code",
   "execution_count": 49,
   "metadata": {},
   "outputs": [],
   "source": [
    "# Feature 8\n",
    "# Is R a digit?\n",
    "train_1[\"R Digit\"] = train_1.apply (lambda x: is_number(x[\"R\"]), axis = 1)\n",
    "test_1[\"R Digit\"] = test_1.apply (lambda x: is_number(x[\"R\"]), axis = 1)\n",
    "\n",
    "train_3[\"R Digit\"] = train_1.apply (lambda x: is_number(x[\"R\"]), axis = 1)\n",
    "test_3[\"R Digit\"] = test_1.apply (lambda x: is_number(x[\"R\"]), axis = 1)"
   ]
  },
  {
   "cell_type": "code",
   "execution_count": 50,
   "metadata": {},
   "outputs": [],
   "source": [
    "y_train_1 = train_1.labels\n",
    "x_train_1 = train_1.drop([\"Words\", \"labels\"], axis = 1)\n",
    "\n",
    "x_test_1 = test_1.drop([\"Words\", \"labels\"], axis = 1)\n",
    "y_test_1 = test_1.labels\n",
    "\n",
    "y_train_2 = train_2.labels\n",
    "x_train_2 = train_2.drop([\"Words\", \"labels\"], axis = 1)\n",
    "\n",
    "x_test_2 = test_2.drop([\"Words\", \"labels\"], axis = 1)\n",
    "y_test_2 = test_2.labels\n",
    "\n",
    "y_train_3 = train_3.labels\n",
    "x_train_3 = train_3.drop([\"Words\", \"labels\"], axis = 1)\n",
    "\n",
    "x_test_3 = test_3.drop([\"Words\", \"labels\"], axis = 1)\n",
    "y_test_3 = test_3.labels"
   ]
  },
  {
   "cell_type": "code",
   "execution_count": 51,
   "metadata": {},
   "outputs": [],
   "source": [
    "le = LabelEncoder()\n",
    "x_train_1[\"L\"] = x_train_1[\"L\"].astype(str)\n",
    "x_train_1[\"R\"] = x_train_1[\"R\"].astype(str)\n",
    "\n",
    "x_train_1[\"L\"] = le.fit_transform(x_train_1[\"L\"])\n",
    "x_train_1[\"R\"] = le.fit_transform(x_train_1[\"R\"])\n",
    "\n",
    "x_train_2[\"L\"] = x_train_2[\"L\"].astype(str)\n",
    "x_train_2[\"R\"] = x_train_2[\"R\"].astype(str)\n",
    "\n",
    "x_train_2[\"L\"] = le.fit_transform(x_train_2[\"L\"])\n",
    "x_train_2[\"R\"] = le.fit_transform(x_train_2[\"R\"])\n"
   ]
  },
  {
   "cell_type": "code",
   "execution_count": 52,
   "metadata": {},
   "outputs": [],
   "source": [
    "le = LabelEncoder()\n",
    "x_test_1[\"L\"] = x_test_1[\"L\"].astype(str)\n",
    "x_test_1[\"R\"] = x_test_1[\"R\"].astype(str)\n",
    "\n",
    "x_test_1[\"L\"] = le.fit_transform(x_test_1[\"L\"])\n",
    "x_test_1[\"R\"] = le.fit_transform(x_test_1[\"R\"])\n",
    "\n",
    "x_test_2[\"L\"] = x_test_2[\"L\"].astype(str)\n",
    "x_test_2[\"R\"] = x_test_2[\"R\"].astype(str)\n",
    "\n",
    "x_test_2[\"L\"] = le.fit_transform(x_test_2[\"L\"])\n",
    "x_test_2[\"R\"] = le.fit_transform(x_test_2[\"R\"])"
   ]
  },
  {
   "cell_type": "code",
   "execution_count": 53,
   "metadata": {},
   "outputs": [],
   "source": [
    "Clf = DecisionTreeClassifier(criterion = \"entropy\")\n",
    "Clf = Clf.fit(x_train_1, y_train_1)\n",
    "y_pred_1 = Clf.predict(x_test_1)"
   ]
  },
  {
   "cell_type": "code",
   "execution_count": 54,
   "metadata": {},
   "outputs": [
    {
     "name": "stdout",
     "output_type": "stream",
     "text": [
      "Accuracy for the 8 features: 89.3667861409797\n"
     ]
    }
   ],
   "source": [
    "print(\"Accuracy for the 8 features:\",metrics.accuracy_score(y_test_1, y_pred_1)*100)"
   ]
  },
  {
   "cell_type": "code",
   "execution_count": 55,
   "metadata": {},
   "outputs": [],
   "source": [
    "Clf = DecisionTreeClassifier(criterion = \"entropy\")\n",
    "Clf = Clf.fit(x_train_2, y_train_2)\n",
    "y_pred_2 = Clf.predict(x_test_2)"
   ]
  },
  {
   "cell_type": "code",
   "execution_count": 56,
   "metadata": {},
   "outputs": [
    {
     "name": "stdout",
     "output_type": "stream",
     "text": [
      "Accuracy for the 5 features: 89.06810035842294\n"
     ]
    }
   ],
   "source": [
    "print(\"Accuracy for the 5 features:\",metrics.accuracy_score(y_test_2, y_pred_2)*100)"
   ]
  },
  {
   "cell_type": "code",
   "execution_count": 57,
   "metadata": {},
   "outputs": [],
   "source": [
    "Clf = DecisionTreeClassifier(criterion = \"entropy\")\n",
    "Clf = Clf.fit(x_train_3, y_train_3)\n",
    "y_pred_3 = Clf.predict(x_test_3)"
   ]
  },
  {
   "cell_type": "code",
   "execution_count": 58,
   "metadata": {},
   "outputs": [
    {
     "name": "stdout",
     "output_type": "stream",
     "text": [
      "Accuracy for the 3 features: 76.88172043010752\n"
     ]
    }
   ],
   "source": [
    "print(\"Accuracy for the 3 features:\",metrics.accuracy_score(y_test_3, y_pred_3)*100)"
   ]
  }
 ],
 "metadata": {
  "kernelspec": {
   "display_name": "Python 3",
   "language": "python",
   "name": "python3"
  },
  "language_info": {
   "codemirror_mode": {
    "name": "ipython",
    "version": 3
   },
   "file_extension": ".py",
   "mimetype": "text/x-python",
   "name": "python",
   "nbconvert_exporter": "python",
   "pygments_lexer": "ipython3",
   "version": "3.7.7"
  }
 },
 "nbformat": 4,
 "nbformat_minor": 4
}
