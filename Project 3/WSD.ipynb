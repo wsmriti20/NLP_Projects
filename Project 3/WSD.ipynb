{
 "cells": [
  {
   "cell_type": "code",
   "execution_count": 1,
   "metadata": {},
   "outputs": [],
   "source": [
    "import pandas as pd\n",
    "import re\n",
    "from collections import Counter\n",
    "import string"
   ]
  },
  {
   "cell_type": "code",
   "execution_count": 2,
   "metadata": {},
   "outputs": [],
   "source": [
    "preText = ''\n",
    "with open('plant.wsd', 'r') as file:\n",
    "    preText = file.read()\n",
    "inputData = preText.strip().split(\"\\n\\n\")\n",
    "df = pd.DataFrame(inputData)\n",
    "# df[0][1] = df[0][1].strip().split(\"\\n\")\n",
    "inputDataDF = df.apply (lambda x: x[0].strip().split(\"\\n\"), axis = 1)\n",
    "# inputDataDF"
   ]
  },
  {
   "cell_type": "code",
   "execution_count": 3,
   "metadata": {},
   "outputs": [
    {
     "data": {
      "text/plain": [
       "188"
      ]
     },
     "execution_count": 3,
     "metadata": {},
     "output_type": "execute_result"
    }
   ],
   "source": [
    "inputDataList  = inputDataDF.to_list()\n",
    "len(inputDataList)"
   ]
  },
  {
   "cell_type": "code",
   "execution_count": null,
   "metadata": {},
   "outputs": [],
   "source": []
  },
  {
   "cell_type": "code",
   "execution_count": 4,
   "metadata": {},
   "outputs": [],
   "source": [
    "# Creating the five folds:\n",
    "import math\n",
    "def creatingFiveFolds(inputList):\n",
    "    folds = []\n",
    "    totalInstances = int(math.ceil(len(inputList)*0.1)/0.1)\n",
    "    # if (totalInstances % 5 == 0):\n",
    "    # if (totalInstances%5)\n",
    "    indices = [ int(totalInstances/5 + i*totalInstances/5) for i in range(5)]\n",
    "    folds.append(inputList[0: indices[0]])\n",
    "    folds.append(inputList[indices[0]: indices[1]])\n",
    "    folds.append(inputList[indices[1]: indices[2]])\n",
    "    folds.append(inputList[indices[2]: indices[3]])\n",
    "    folds.append(inputList[indices[3]: indices[4]])\n",
    "    folds.append(inputList[indices[4]: ])\n",
    "    return folds\n",
    "\n",
    "folds = creatingFiveFolds(inputDataList)"
   ]
  },
  {
   "cell_type": "code",
   "execution_count": 5,
   "metadata": {},
   "outputs": [
    {
     "data": {
      "text/plain": [
       "188"
      ]
     },
     "execution_count": 5,
     "metadata": {},
     "output_type": "execute_result"
    }
   ],
   "source": [
    "noInstances = len(inputDataDF)\n",
    "noInstances"
   ]
  },
  {
   "cell_type": "code",
   "execution_count": 6,
   "metadata": {},
   "outputs": [
    {
     "name": "stdout",
     "output_type": "stream",
     "text": [
      "living\n"
     ]
    }
   ],
   "source": [
    "# function to get sense from the raw instance to a df for senses\n",
    "def extractingTheSense(instanceRawText):\n",
    "    answerInstance = instanceRawText[1].split(\" \")\n",
    "    sense_reg1 = re.search('\\\"(.*)\\\"', answerInstance[2])\n",
    "    sense1 = sense_reg1.group(1)\n",
    "    sense_reg2 = re.search('%(.*)', sense1)\n",
    "    sense2 = sense_reg2.group(1)\n",
    "    return sense2\n",
    "print(extractingTheSense(inputDataList[2]))"
   ]
  },
  {
   "cell_type": "code",
   "execution_count": 7,
   "metadata": {},
   "outputs": [
    {
     "name": "stdout",
     "output_type": "stream",
     "text": [
      "1000002\n"
     ]
    }
   ],
   "source": [
    "def extractingTheID(instanceRawText):\n",
    "    answerInstance = instanceRawText[1].split(\" \")\n",
    "    ID_reg1 = re.search('\\\"(.*)\\\"', answerInstance[1])\n",
    "    ID1 = ID_reg1.group(1)\n",
    "    ID_reg2 = re.search('\\.(.*)', ID1)\n",
    "    ID2 = ID_reg2.group(1)\n",
    "    return ID2\n",
    "print(extractingTheID(inputDataList[2]))"
   ]
  },
  {
   "cell_type": "code",
   "execution_count": 8,
   "metadata": {},
   "outputs": [
    {
     "data": {
      "text/plain": [
       "'<instance id=\"plant.1000000\" docsrc = \"BNC/A07\">\\n<answer instance=\"plant.1000000\" senseid=\"plant%factory\"/>\\n<context>\\nUntil the mid- and late 1970s, there were simply no rules whereby groupings of parents could obtain a state-financed, multi-denominational school, as the only channels of communication in these matters were those between the Department of Education and the relevant diocesan department or other church board. For example, a new housing estate would be built, the diocese would be informed of the development at the planning stage, and the diocesan office would put in for a school, or an extension for an existing school. The arrangement had been unchanged since the early years of the state and had become entirely natural. Similarly for the protestant community: the school  <head>plant</head>  is owned by the church, or appropriate church body. \\n</context>\\n</instance>'"
      ]
     },
     "execution_count": 8,
     "metadata": {},
     "output_type": "execute_result"
    }
   ],
   "source": [
    "inputData[0]"
   ]
  },
  {
   "cell_type": "code",
   "execution_count": 9,
   "metadata": {},
   "outputs": [
    {
     "name": "stdout",
     "output_type": "stream",
     "text": [
      "['September', '1991', '130', 'You', 'can', 'win', 'a', 'great', 'new', 'patio', 'Pippa', 'Wood', 'How', 'to', 'cope', 'with', 'a', 'slope', 'Bulbs', 'headplanthead', 'now', 'for', 'spring', 'blooms']\n"
     ]
    }
   ],
   "source": [
    "def extractingTheContext(instanceRawText):\n",
    "    listOfWords = instanceRawText[3].split(\" \")\n",
    "    listOfWords = list(map(lambda x: re.sub(r'[^\\w\\s]','',x), listOfWords))\n",
    "    listOfWords = list(filter(lambda x: x != '', listOfWords))\n",
    "    return listOfWords\n",
    "print(extractingTheContext(inputDataList[2]))"
   ]
  },
  {
   "cell_type": "code",
   "execution_count": 10,
   "metadata": {},
   "outputs": [
    {
     "data": {
      "text/plain": [
       "{'factory': {}, 'living': {}}"
      ]
     },
     "execution_count": 10,
     "metadata": {},
     "output_type": "execute_result"
    }
   ],
   "source": [
    "# Processing senses and counts\n",
    "sensesList = list(map(lambda x: extractingTheSense(x), inputDataList))\n",
    "uniqueSenses = list(set(sensesList))\n",
    "sensesCountDict = dict(Counter(sensesList))\n",
    "sensesCountDict\n",
    "senseWordsDict = {key: {} for key in uniqueSenses} \n",
    "senseWordsDict"
   ]
  },
  {
   "cell_type": "code",
   "execution_count": null,
   "metadata": {},
   "outputs": [],
   "source": []
  },
  {
   "cell_type": "code",
   "execution_count": 11,
   "metadata": {},
   "outputs": [
    {
     "data": {
      "text/plain": [
       "['<instance id=\"plant.1000000\" docsrc = \"BNC/A07\">',\n",
       " '<answer instance=\"plant.1000000\" senseid=\"plant%factory\"/>',\n",
       " '<context>',\n",
       " 'Until the mid- and late 1970s, there were simply no rules whereby groupings of parents could obtain a state-financed, multi-denominational school, as the only channels of communication in these matters were those between the Department of Education and the relevant diocesan department or other church board. For example, a new housing estate would be built, the diocese would be informed of the development at the planning stage, and the diocesan office would put in for a school, or an extension for an existing school. The arrangement had been unchanged since the early years of the state and had become entirely natural. Similarly for the protestant community: the school  <head>plant</head>  is owned by the church, or appropriate church body. ',\n",
       " '</context>',\n",
       " '</instance>']"
      ]
     },
     "execution_count": 11,
     "metadata": {},
     "output_type": "execute_result"
    }
   ],
   "source": [
    "# processing the bag of words\n",
    "# inputDataList[0][3]\n",
    "def creatingBagOfWords(instanceRawText, senseWordCountDict, sensesDict, wordSet):\n",
    "    sense = extractingTheSense(instanceRawText)\n",
    "    # print(sensesDict)\n",
    "    sensesDict[sense] += 1\n",
    "    listOfWords = extractingTheContext(instanceRawText)\n",
    "    \n",
    "    for word in listOfWords:\n",
    "        wordSet.add(word)\n",
    "        if word in senseWordCountDict[sense].keys():\n",
    "            senseWordCountDict[sense][word] += 1\n",
    "        else:\n",
    "            senseWordCountDict[sense][word] = 1   \n",
    "    return senseWordCountDict\n",
    "# print(creatingBagOfWords(inputDataList[0], senseWordsDict))\n",
    "inputDataList[0]\n"
   ]
  },
  {
   "cell_type": "code",
   "execution_count": 12,
   "metadata": {
    "tags": []
   },
   "outputs": [
    {
     "data": {
      "text/plain": [
       "5676"
      ]
     },
     "execution_count": 12,
     "metadata": {},
     "output_type": "execute_result"
    }
   ],
   "source": [
    "# applying the function on all the four trainings\n",
    "# maybe remove the word we are looking into?\n",
    "# remove stop words\n",
    "# modify the training to rotate the folds\n",
    "train = folds[:-1]\n",
    "noTotalInstances = 0\n",
    "sensesCountDict = dict.fromkeys((uniqueSenses), 0)\n",
    "senseWordsDict = {key: {} for key in uniqueSenses} \n",
    "uniqueWordSet = set()\n",
    "for fold in train:\n",
    "    for instance in fold:\n",
    "        noTotalInstances += 1\n",
    "        creatingBagOfWords(instance, senseWordsDict, sensesCountDict, uniqueWordSet)\n",
    "# test = folds[4]\n",
    "# senseWordsDict['living']\n",
    "# sensesCountDict\n",
    "len(uniqueWordSet)"
   ]
  },
  {
   "cell_type": "code",
   "execution_count": 13,
   "metadata": {},
   "outputs": [
    {
     "ename": "NameError",
     "evalue": "name 'test' is not defined",
     "output_type": "error",
     "traceback": [
      "\u001b[1;31m---------------------------------------------------------------------------\u001b[0m",
      "\u001b[1;31mNameError\u001b[0m                                 Traceback (most recent call last)",
      "\u001b[1;32m<ipython-input-13-0632a3b9e387>\u001b[0m in \u001b[0;36m<module>\u001b[1;34m\u001b[0m\n\u001b[0;32m      2\u001b[0m \u001b[1;31m# I need the ID, Context (list of words)\u001b[0m\u001b[1;33m\u001b[0m\u001b[1;33m\u001b[0m\u001b[1;33m\u001b[0m\u001b[0m\n\u001b[0;32m      3\u001b[0m \u001b[1;31m# Id and the gold standard senses\u001b[0m\u001b[1;33m\u001b[0m\u001b[1;33m\u001b[0m\u001b[1;33m\u001b[0m\u001b[0m\n\u001b[1;32m----> 4\u001b[1;33m \u001b[0mtest\u001b[0m\u001b[1;33m\u001b[0m\u001b[1;33m\u001b[0m\u001b[0m\n\u001b[0m\u001b[0;32m      5\u001b[0m \u001b[0msensesTestList\u001b[0m \u001b[1;33m=\u001b[0m \u001b[0mlist\u001b[0m\u001b[1;33m(\u001b[0m\u001b[0mmap\u001b[0m\u001b[1;33m(\u001b[0m\u001b[1;32mlambda\u001b[0m \u001b[0mx\u001b[0m\u001b[1;33m:\u001b[0m \u001b[0mextractingTheSense\u001b[0m\u001b[1;33m(\u001b[0m\u001b[0mx\u001b[0m\u001b[1;33m)\u001b[0m\u001b[1;33m,\u001b[0m \u001b[0mtest\u001b[0m\u001b[1;33m)\u001b[0m\u001b[1;33m)\u001b[0m\u001b[1;33m\u001b[0m\u001b[1;33m\u001b[0m\u001b[0m\n\u001b[0;32m      6\u001b[0m \u001b[0mIDTestList\u001b[0m \u001b[1;33m=\u001b[0m \u001b[0mlist\u001b[0m\u001b[1;33m(\u001b[0m\u001b[0mmap\u001b[0m\u001b[1;33m(\u001b[0m\u001b[1;32mlambda\u001b[0m \u001b[0mx\u001b[0m\u001b[1;33m:\u001b[0m \u001b[0mextractingTheID\u001b[0m\u001b[1;33m(\u001b[0m\u001b[0mx\u001b[0m\u001b[1;33m)\u001b[0m\u001b[1;33m,\u001b[0m \u001b[0mtest\u001b[0m\u001b[1;33m)\u001b[0m\u001b[1;33m)\u001b[0m\u001b[1;33m\u001b[0m\u001b[1;33m\u001b[0m\u001b[0m\n",
      "\u001b[1;31mNameError\u001b[0m: name 'test' is not defined"
     ]
    }
   ],
   "source": [
    "# working in the test fold\n",
    "# I need the ID, Context (list of words)\n",
    "# Id and the gold standard senses\n",
    "test \n",
    "sensesTestList = list(map(lambda x: extractingTheSense(x), test))\n",
    "IDTestList = list(map(lambda x: extractingTheID(x), test))\n",
    "contextTestList  = list(map(lambda x: extractingTheContext(x), test))\n",
    "processedListTesting = list(zip(IDTestList, sensesTestList, contextTestList))\n",
    "# processedListTesting[1]\n",
    "# (sensesTestList)"
   ]
  },
  {
   "cell_type": "code",
   "execution_count": null,
   "metadata": {},
   "outputs": [],
   "source": [
    "def calculateSenseProb (prob_sense, sense_count_dict, total):\n",
    "    for sense in prob_sense.keys():\n",
    "        prob_sense[sense] = float(sense_count_dict[sense] / total)"
   ]
  },
  {
   "cell_type": "code",
   "execution_count": null,
   "metadata": {},
   "outputs": [],
   "source": [
    "def calculateWordSenseProb(probWordSenseDict, contextList, senseWord, v, sensesCount):\n",
    "    for sense in sensesCount.keys():\n",
    "        for word in contextList:\n",
    "            if word in senseWord[sense].keys():\n",
    "                probWordSenseDict[word] = {sense : float((senseWord[sense][word] + 1)/(sensesCount[sense] + v))}\n",
    "            else:\n",
    "                probWordSenseDict[word] = {sense : float( 1/(sensesCount[sense] + v))}"
   ]
  },
  {
   "cell_type": "code",
   "execution_count": null,
   "metadata": {},
   "outputs": [],
   "source": [
    "def calculatingSenseForInstance(probSenseWordPred, contextWordList, senseList, probSense, probWordSense):\n",
    "    for sense in senseList:\n",
    "        for word in contextWordList:\n",
    "            probSenseWordPred[sense] += 1 # math.log10(probWordSense[word][sense])\n",
    "            if sense not in probWordSense[word].keys():\n",
    "                print(word)\n",
    "        probSenseWordPred[sense] += math.log10(probSense[sense])"
   ]
  },
  {
   "cell_type": "code",
   "execution_count": null,
   "metadata": {
    "tags": [
     "outputPrepend"
    ]
   },
   "outputs": [],
   "source": [
    "# doing the Naive Based Classification   \n",
    "def naiveBasedClassifier(ListTesting, senseCountDict,senseWordsDict):\n",
    "    # calculating the probablitiy of sense \n",
    "    # P(Sense)\n",
    "    probSenseDict = dict.fromkeys((uniqueSenses), 0)\n",
    "    calculateSenseProb(probSenseDict,senseCountDict,noTotalInstances)\n",
    "    \n",
    "    # find the probablity of words given sense, applying add one smoothing\n",
    "    # P(feature|sense)]\n",
    "    V = len(uniqueWordSet)\n",
    "    probWordSenseDict = {}\n",
    "    probSenseWordPred = dict.fromkeys((uniqueSenses), 0)\n",
    "    for instance in ListTesting:\n",
    "        contextWordList = instance[2]\n",
    "        calculateWordSenseProb(probWordSenseDict, contextWordList, senseWordsDict, V, sensesCountDict)\n",
    "\n",
    "        # Calculating the sense given word context\n",
    "        calculatingSenseForInstance(probSenseWordPred, contextWordList, sensesList, probSenseDict, probWordSenseDict)\n",
    "    return probWordSenseDict\n",
    "# probWordSenseDict\n",
    "x = naiveBasedClassifier(processedListTesting, sensesCountDict, senseWordsDict)\n",
    "x"
   ]
  },
  {
   "cell_type": "code",
   "execution_count": null,
   "metadata": {},
   "outputs": [],
   "source": [
    "probWordSenseDict"
   ]
  }
 ],
 "metadata": {
  "kernelspec": {
   "display_name": "Python 3",
   "language": "python",
   "name": "python3"
  },
  "language_info": {
   "codemirror_mode": {
    "name": "ipython",
    "version": 3
   },
   "file_extension": ".py",
   "mimetype": "text/x-python",
   "name": "python",
   "nbconvert_exporter": "python",
   "pygments_lexer": "ipython3",
   "version": "3.7.7"
  }
 },
 "nbformat": 4,
 "nbformat_minor": 2
}
