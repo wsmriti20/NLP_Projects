{
 "cells": [
  {
   "cell_type": "code",
   "execution_count": 25,
   "metadata": {},
   "outputs": [],
   "source": [
    "import pandas as pd\n",
    "import re\n",
    "from collections import Counter\n",
    "import string\n",
    "import io"
   ]
  },
  {
   "cell_type": "code",
   "execution_count": 26,
   "metadata": {},
   "outputs": [],
   "source": [
    "preText = ''\n",
    "with io.open(\"DialogAct.train\", mode = 'r', encoding = \"utf-8\") as file:\n",
    "    preText = file.read()\n",
    "inputData = preText.strip().split(\"\\n\\n\")\n",
    "df = pd.DataFrame(inputData)\n",
    "inputDataDF = df.apply (lambda x: x[0].strip().split(\"\\n\"), axis = 1)\n",
    "inputDataList  = inputDataDF.to_list()\n",
    "# inputDataDF[0]"
   ]
  },
  {
   "cell_type": "code",
   "execution_count": 27,
   "metadata": {},
   "outputs": [],
   "source": [
    "\n",
    "# len(inputDataList)"
   ]
  },
  {
   "cell_type": "code",
   "execution_count": 28,
   "metadata": {},
   "outputs": [],
   "source": [
    "# processing the input data of dialogues to pair DialogueAct with students message\n",
    "# pair = (DialogAct, Message)\n",
    "# inputDataDF\n",
    "def processingPair(inputDialog):\n",
    "    newDialog = []\n",
    "    for line in inputDialog:\n",
    "        lineList = line.split(\":\")\n",
    "        agent = lineList[0]\n",
    "        # print(agent)\n",
    "        elementList = []\n",
    "        if agent == \"Advisor\":\n",
    "            w = re.search('\\[(.*)\\]', lineList[1])\n",
    "            actLabel = w.group(1)\n",
    "            w = re.search('\\](.*)', lineList[1])\n",
    "            sentence = w.group(1).strip()\n",
    "            # elementList.append(agent)\n",
    "            elementList.append(actLabel)\n",
    "            elementList.append(sentence)\n",
    "        else:\n",
    "            sentence = lineList[1].strip()\n",
    "            # elementList.append(agent)\n",
    "            elementList.append(None)\n",
    "            elementList.append(sentence)\n",
    "        newDialog.append(elementList)\n",
    "    return newDialog\n",
    "\n",
    "# df[0]"
   ]
  },
  {
   "cell_type": "code",
   "execution_count": 29,
   "metadata": {
    "tags": []
   },
   "outputs": [],
   "source": [
    "# pairing the labels with previous Dialog\n",
    "from string import punctuation\n",
    "def collectingTheAppropriatePair(inputDialog):\n",
    "    newPairList = []\n",
    "    if inputDialog:\n",
    "        if inputDialog[0][0]:\n",
    "            newPairList.append((inputDialog[0][0], None))\n",
    "        for i in range(1, len(inputDialog)):\n",
    "            if inputDialog[i][0]:\n",
    "                wordList = inputDialog[i-1][1].split(\" \")\n",
    "                if wordList:\n",
    "                    wordList = list(map(lambda x: x.strip(punctuation), wordList))\n",
    "                newPair = (inputDialog[i][0], wordList)\n",
    "                newPairList.append(newPair)\n",
    "        return newPairList\n",
    "# collectingTheAppropriatePair(df[0])\n"
   ]
  },
  {
   "cell_type": "code",
   "execution_count": 30,
   "metadata": {},
   "outputs": [],
   "source": [
    "# processing the bag of words\n",
    "# inputDataList[0][3]\n",
    "def creatingBagOfWords(instanceRawText, senseWordCountDict, sensesDict, wordSet):\n",
    "    sense = instanceRawText[0]\n",
    "    # print(sensesDict)\n",
    "    sensesDict[sense] += 1\n",
    "    listOfWords = instanceRawText[1]\n",
    "    # print(listOfWords)\n",
    "    if listOfWords:\n",
    "        for word in listOfWords:\n",
    "            wordSet.add(word)\n",
    "            if word in senseWordCountDict[sense].keys():\n",
    "                senseWordCountDict[sense][word] += 1\n",
    "            else:\n",
    "                senseWordCountDict[sense][word] = 1   \n",
    "    return senseWordCountDict\n",
    "# print(creatingBagOfWords(inputDataList[0], senseWordsDict))\n",
    "# inputDataList[0]"
   ]
  },
  {
   "cell_type": "code",
   "execution_count": 31,
   "metadata": {},
   "outputs": [],
   "source": [
    "df = inputDataDF.apply(lambda x: processingPair(x))\n",
    "df = df.apply(lambda x: collectingTheAppropriatePair(x))\n",
    "pairedList = df.to_list()\n",
    "\n",
    "inputDataList = []\n",
    "for i in pairedList:\n",
    "    if i:\n",
    "        for e in i:\n",
    "            inputDataList.append(e)\n",
    "# pairedList = [item for sublist in pairedList for item in sublist]\n",
    "# inputDataList[0]\n",
    "# pairedList[:5]\n",
    "# df.head(5)\n",
    "# Processing senses and counts\n",
    "sensesList = list(map(lambda x: x[0], inputDataList))\n",
    "# sensesList\n",
    "uniqueSenses = list(set(sensesList))\n",
    "# uniqueSenses\n",
    "sensesCountDict = dict(Counter(sensesList))\n",
    "# sensesCountDict\n",
    "senseWordsDict = {key: {} for key in uniqueSenses} \n",
    "# senseWordsDict"
   ]
  },
  {
   "cell_type": "code",
   "execution_count": 32,
   "metadata": {
    "tags": []
   },
   "outputs": [],
   "source": [
    "# applying the function on all the four trainings\n",
    "# maybe remove the word we are looking into?\n",
    "# remove stop words\n",
    "# modify the training to rotate the folds\n",
    "noTotalInstances = 0\n",
    "sensesCountDict = dict.fromkeys((uniqueSenses), 0)\n",
    "senseWordsDict = {key: {} for key in uniqueSenses} \n",
    "uniqueWordSet = set()\n",
    "\n",
    "for instance in inputDataList:\n",
    "    noTotalInstances += 1\n",
    "    creatingBagOfWords(instance, senseWordsDict, sensesCountDict, uniqueWordSet)\n",
    "# test = folds[4]\n",
    "# senseWordsDict\n",
    "# sensesCountDict\n",
    "# len(uniqueWordSet)"
   ]
  },
  {
   "cell_type": "code",
   "execution_count": 33,
   "metadata": {},
   "outputs": [],
   "source": [
    "def calculateSenseProb (prob_sense, sense_count_dict, total):\n",
    "    for sense in prob_sense.keys():\n",
    "        prob_sense[sense] = float(sense_count_dict[sense] / total)"
   ]
  },
  {
   "cell_type": "code",
   "execution_count": 34,
   "metadata": {},
   "outputs": [],
   "source": [
    "def calculateWordSenseProb(probWordSenseDict, contextList, senseWord, v, sensesCount, uniqueSense):\n",
    "    if contextList:\n",
    "        for word in contextList:\n",
    "            probWordSenseDict[word] = {}\n",
    "            if uniqueSense:\n",
    "                for sense in uniqueSense:\n",
    "                    if word in senseWord[sense].keys():\n",
    "                        probWordSenseDict[word][sense] = float((senseWord[sense][word] + 1)/(sensesCount[sense] + v))\n",
    "                    else:\n",
    "                        probWordSenseDict[word][sense] = float((1)/(sensesCount[sense] + v))"
   ]
  },
  {
   "cell_type": "code",
   "execution_count": 35,
   "metadata": {},
   "outputs": [],
   "source": [
    "def calculatingSenseForInstance(probSenseWordPred, contextWordList, senseList, probSense, probWordSense):\n",
    "    if sensesList:\n",
    "        for sense in senseList:\n",
    "            if contextWordList:\n",
    "                for word in contextWordList:\n",
    "                    probSenseWordPred[sense] += math.log10(probWordSense[word][sense])\n",
    "                probSenseWordPred[sense] += math.log10(probSense[sense])"
   ]
  },
  {
   "cell_type": "code",
   "execution_count": 36,
   "metadata": {},
   "outputs": [],
   "source": [
    "# doing the Naive Based Classification   \n",
    "# doing the Naive Based Classification   \n",
    "def naiveBasedClassifier(ListTesting, senseCountDict,senseWordsDict):\n",
    "    # calculating the probablitiy of sense \n",
    "    # P(Sense)\n",
    "    probSenseDict = dict.fromkeys((uniqueSenses), 0)\n",
    "    calculateSenseProb(probSenseDict,senseCountDict,noTotalInstances)\n",
    "    \n",
    "    predictionInstances = []\n",
    "\n",
    "    # find the probablity of words given sense, applying add one smoothing\n",
    "    # P(feature|sense)]\n",
    "    V = len(uniqueWordSet)\n",
    "    probWordSenseDict = {}\n",
    "    probSenseWordPred = dict.fromkeys((uniqueSenses), 0)\n",
    "    for instance in ListTesting:\n",
    "        contextWordList = instance[1]\n",
    "        calculateWordSenseProb(probWordSenseDict, contextWordList, senseWordsDict, V, sensesCountDict, uniqueSenses)\n",
    "\n",
    "    for instance in ListTesting:\n",
    "        contextWordList = instance[1]\n",
    "        # Calculating the sense given word context\n",
    "        # print(contextTestList[0])\n",
    "        calculatingSenseForInstance(probSenseWordPred, contextWordList, uniqueSenses, probSenseDict, probWordSenseDict)\n",
    "\n",
    "        # finding max\n",
    "        predSense = max(probSenseWordPred, key = probSenseWordPred.get)\n",
    "        # storing the instances ID and prediction sense\n",
    "        predictionInstances.append(predSense)\n",
    "\n",
    "    return predictionInstances"
   ]
  },
  {
   "cell_type": "code",
   "execution_count": 37,
   "metadata": {},
   "outputs": [],
   "source": [
    "# prepping the test data\n",
    "preText = ''\n",
    "with io.open(\"DialogAct.test\", mode = 'r', encoding = \"utf-8\") as file:\n",
    "    preText = file.read()\n",
    "inputTestData = preText.strip().split(\"\\n\\n\")\n",
    "dfTest = pd.DataFrame(inputTestData)\n",
    "inputTestDataDF = dfTest.apply (lambda x: x[0].strip().split(\"\\n\"), axis = 1)\n",
    "inputTestDataList  = inputTestDataDF.to_list()\n",
    "\n",
    "dfTest = inputTestDataDF.apply(lambda x: processingPair(x))\n",
    "dfTest = dfTest.apply(lambda x: collectingTheAppropriatePair(x))\n",
    "pairedListTest = dfTest.to_list()\n",
    "\n",
    "inputTestDataList = []\n",
    "for i in pairedListTest:\n",
    "    if i:\n",
    "        for e in i:\n",
    "            inputTestDataList.append(e)\n",
    "# inputTestDataList[:4]\n",
    "processedListTesting = inputTestDataList"
   ]
  },
  {
   "cell_type": "code",
   "execution_count": 38,
   "metadata": {},
   "outputs": [],
   "source": [
    "def accuracy(predList, actualList):\n",
    "    correct = 0\n",
    "    for i in range(len(predList)):\n",
    "        if predList[i] == actualList[i][0]:\n",
    "            correct += 1\n",
    "    return (correct*100/len(predList))"
   ]
  },
  {
   "cell_type": "code",
   "execution_count": 39,
   "metadata": {},
   "outputs": [],
   "source": [
    "predictedTests = naiveBasedClassifier(processedListTesting, sensesCountDict, senseWordsDict)\n",
    "# predictedTests"
   ]
  },
  {
   "cell_type": "code",
   "execution_count": 40,
   "metadata": {},
   "outputs": [
    {
     "data": {
      "text/plain": [
       "22.5"
      ]
     },
     "execution_count": 40,
     "metadata": {},
     "output_type": "execute_result"
    }
   ],
   "source": [
    "accuracyValue = accuracy(predictedTests, processedListTesting)\n",
    "accuracyValue"
   ]
  }
 ],
 "metadata": {
  "kernelspec": {
   "display_name": "Python 3",
   "language": "python",
   "name": "python3"
  },
  "language_info": {
   "codemirror_mode": {
    "name": "ipython",
    "version": 3
   },
   "file_extension": ".py",
   "mimetype": "text/x-python",
   "name": "python",
   "nbconvert_exporter": "python",
   "pygments_lexer": "ipython3",
   "version": "3.7.7"
  }
 },
 "nbformat": 4,
 "nbformat_minor": 2
}
