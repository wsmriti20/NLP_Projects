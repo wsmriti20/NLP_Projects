{
 "cells": [
  {
   "cell_type": "code",
   "execution_count": 31,
   "metadata": {},
   "outputs": [],
   "source": [
    "import pandas as pd \n",
    "from pandas import DataFrame"
   ]
  },
  {
   "cell_type": "code",
   "execution_count": 32,
   "metadata": {},
   "outputs": [],
   "source": [
    "# converting the list of objects \n",
    "## take care of multiple classes for the same sentence\n",
    "from re import search\n",
    "import re\n",
    "def filterTags(object):\n",
    "    newObject = []\n",
    "    # extract the sentence\n",
    "    # extract the class tag\n",
    "    if len(object) > 1:\n",
    "        if object[1].strip(\"<\").lower() == \"class\":\n",
    "            newObject.append(object[0])\n",
    "            # extract the id tag\n",
    "            # extract the name tag\n",
    "            for tagLine in object[2:]:\n",
    "                if search(\"id\", tagLine.split(\"=\")[0]):\n",
    "                    idWord = tagLine.split(\"=\")[1]\n",
    "                    idWord = re.sub(r'[^\\w\\s]', '', idWord) \n",
    "                    newObject.append((\"id\", idWord))\n",
    "                if search(\"name\", tagLine.split(\"=\")[0]):\n",
    "                    nameWords = tagLine.split(\"=\")[1]\n",
    "                    newObject.append((\"name\", nameWords))\n",
    "                if search(\">\", tagLine):\n",
    "                    break\n",
    "            return(newObject)"
   ]
  },
  {
   "cell_type": "code",
   "execution_count": 33,
   "metadata": {
    "tags": []
   },
   "outputs": [],
   "source": [
    "# labelling now\n",
    "def creatingLabels(element):\n",
    "    if element:\n",
    "        sentence = element[0]\n",
    "        for searchToken in element[1:]:\n",
    "            if searchToken[0] == \"id\":\n",
    "                idToken = searchToken[1]\n",
    "                sentenceSplit = sentence.split(idToken)\n",
    "                wordSplit1 = sentenceSplit[0].rstrip().split(\" \")\n",
    "                s1 = \"\"\n",
    "\n",
    "                for w in wordSplit1:\n",
    "                     s1 += w + \"/O \"\n",
    "                sentenceSplit[0] = s1.rstrip()\n",
    "\n",
    "                idTokenLabel = \" \" + idToken + \"/B \"\n",
    "\n",
    "                if len(sentenceSplit) >= 2:\n",
    "                    wordSplit2 = sentenceSplit[1].lstrip().split(\" \")\n",
    "                    s2 = \"\"\n",
    "                    for w in wordSplit2:\n",
    "                        s2 += w + \"/O \"\n",
    "                    sentenceSplit[1] = s2.rstrip()\n",
    "                    sentence = sentenceSplit[0] + idTokenLabel + sentenceSplit[1]\n",
    "            \n",
    "            if searchToken[0] == \"name\":\n",
    "                nameToken = searchToken[1]\n",
    "                sentenceSplit = sentence.split(nameToken)\n",
    "                wordSplit1 = sentenceSplit[0].rstrip().split(\" \")\n",
    "                s1 = \"\"\n",
    "                for w in wordSplit1:\n",
    "                     s1 += w + \"/O \"\n",
    "                sentenceSplit[0] = s1.rstrip()\n",
    "                nameTokenList = nameToken.split(\" \")\n",
    "                nameTokenLabelOne = nameTokenList[0] + \"/B \"\n",
    "                nameTokenLabelTwo = ''\n",
    "                for t in nameTokenList[1:]:\n",
    "                    nameTokenLabelTwo += t + \"/I \"  \n",
    "                nameTokenLabelTwo.rstrip()  \n",
    "                if len(sentenceSplit) >= 2: \n",
    "                    wordSplit2 = sentenceSplit[1].lstrip().split(\" \")\n",
    "                    s2 = \"\"\n",
    "                    for w in wordSplit2:\n",
    "                        s2 += w + \"/O \"\n",
    "                    sentenceSplit[1] = s2.rstrip()\n",
    "                #     sentence = sentenceSplit[0] + nameTokenLabelOne + nameTokenLabelTwo #+ sentenceSplit[1] \n",
    "                # else:\n",
    "                    sentence = sentenceSplit[0] + nameTokenLabelOne + nameTokenLabelTwo + sentenceSplit[1] \n",
    "                \n",
    "        return(sentence)"
   ]
  },
  {
   "cell_type": "code",
   "execution_count": 34,
   "metadata": {},
   "outputs": [],
   "source": [
    "def creatingWords(w):\n",
    "    temp = []\n",
    "    if w:\n",
    "        for i in w.split(\" \"):\n",
    "            temp.append(i)\n",
    "        return temp\n",
    "    else: return None\n",
    "\n",
    "def extractingLables(w):\n",
    "    temp = []\n",
    "    if w:\n",
    "        for i in w.split(\" \"):\n",
    "            if len(i.split(\"/\")) < 2:\n",
    "                print(i)\n",
    "            else:\n",
    "                temp.append(i.split(\"/\")[1])\n",
    "        return temp\n",
    "    else: return None\n",
    "# creatingWords(labelled_list[0])"
   ]
  },
  {
   "cell_type": "code",
   "execution_count": 35,
   "metadata": {},
   "outputs": [],
   "source": [
    "preText = ''\n",
    "with open('NLU.train', 'r') as file:\n",
    "    preText = file.read()\n",
    "inputData = preText.strip().split(\"\\n\\n\")\n",
    "df = pd.DataFrame(inputData)"
   ]
  },
  {
   "cell_type": "code",
   "execution_count": 36,
   "metadata": {},
   "outputs": [],
   "source": [
    "inputDataDF = df.apply (lambda x: x[0].strip().split(\"\\n\"), axis = 1)\n",
    "inputDataDF = inputDataDF.apply (lambda x: filterTags(x))\n",
    "input_list = inputDataDF.to_list()"
   ]
  },
  {
   "cell_type": "code",
   "execution_count": 37,
   "metadata": {
    "tags": []
   },
   "outputs": [],
   "source": [
    "labelled_list = list(map(lambda x: creatingLabels(x), input_list))\n",
    "filtered_labelled_list = [i for i in labelled_list if i] \n",
    "labelledDFTrain = DataFrame (filtered_labelled_list, columns = [\"sentence\"])\n",
    "# labelled_list"
   ]
  },
  {
   "cell_type": "code",
   "execution_count": 38,
   "metadata": {
    "tags": []
   },
   "outputs": [],
   "source": [
    "tokens = []\n",
    "for l in labelled_list[:]:\n",
    "    if creatingWords(l):\n",
    "        tokens.extend(creatingWords(l))\n",
    "\n",
    "wordDFTrain = DataFrame(tokens, columns = [\"words\"])\n",
    "wordDFTrain = wordDFTrain[wordDFTrain.columns[0]].str.split(\"/\", n = 1, expand = True)\n",
    "wordDFTrain.columns = ['tokens', \"labels\"]"
   ]
  },
  {
   "cell_type": "code",
   "execution_count": 39,
   "metadata": {},
   "outputs": [],
   "source": [
    "# testing\n",
    "preText = ''\n",
    "with open('NLU.test', 'r') as file:\n",
    "    preText = file.read()\n",
    "inputDataTest = preText.strip().split(\"\\n\\n\")\n",
    "dfTest = pd.DataFrame(inputDataTest)"
   ]
  },
  {
   "cell_type": "code",
   "execution_count": 40,
   "metadata": {},
   "outputs": [],
   "source": [
    "inputDataDFTest = df.apply (lambda x: x[0].strip().split(\"\\n\"), axis = 1)\n",
    "inputDataDFTest = inputDataDFTest.apply (lambda x: filterTags(x))\n",
    "input_list_test = inputDataDFTest.to_list()"
   ]
  },
  {
   "cell_type": "code",
   "execution_count": 41,
   "metadata": {},
   "outputs": [],
   "source": [
    "labelled_list_test = list(map(lambda x: creatingLabels(x), input_list_test))\n",
    "filtered_labelled_list_test = [i for i in labelled_list_test if i] \n",
    "labelledDFTest = DataFrame (filtered_labelled_list_test, columns = [\"sentence\"])"
   ]
  },
  {
   "cell_type": "code",
   "execution_count": 42,
   "metadata": {},
   "outputs": [],
   "source": [
    "tokens = []\n",
    "for l in labelled_list[:]:\n",
    "    if creatingWords(l):\n",
    "        tokens.extend(creatingWords(l))\n",
    "\n",
    "wordDFTest = DataFrame(tokens, columns = [\"words\"])\n",
    "wordDFTest = wordDFTest[wordDFTest.columns[0]].str.split(\"/\", n = 1, expand = True)\n",
    "wordDFTest.columns = ['tokens', \"labels\"]"
   ]
  },
  {
   "cell_type": "code",
   "execution_count": 43,
   "metadata": {},
   "outputs": [],
   "source": [
    "# creating Feature 1\n",
    "wordDFTrain[\"value\"] = wordDFTrain.apply(lambda x: re.sub(r'[^\\w\\s]', '', x[\"tokens\"]) , axis = 1)\n",
    "wordDFTest[\"value\"] = wordDFTest.apply(lambda x: re.sub(r'[^\\w\\s]', '', x[\"tokens\"]) , axis = 1)"
   ]
  },
  {
   "cell_type": "code",
   "execution_count": 44,
   "metadata": {},
   "outputs": [],
   "source": [
    "# creating feature 2\n",
    "wordDFTrain[\"AllUpperCase\"] = wordDFTrain.apply(lambda x: x[\"value\"].isupper(), axis = 1)\n",
    "wordDFTest[\"AllUpperCase\"] = wordDFTest.apply(lambda x: x[\"value\"].isupper(), axis = 1)"
   ]
  },
  {
   "cell_type": "code",
   "execution_count": 45,
   "metadata": {},
   "outputs": [],
   "source": [
    "# creating feature 3\n",
    "def checkFirstElement(row):\n",
    "    if row[\"value\"]:\n",
    "        return row[\"value\"][0].isupper()\n",
    "    else:\n",
    "        return False\n",
    "wordDFTrain[\"FirstUpperCase\"] = wordDFTrain.apply(lambda x: checkFirstElement(x), axis = 1)\n",
    "wordDFTest[\"FirstUpperCase\"] = wordDFTest.apply(lambda x: checkFirstElement(x), axis = 1)"
   ]
  },
  {
   "cell_type": "code",
   "execution_count": 46,
   "metadata": {},
   "outputs": [],
   "source": [
    "# creating feature 4: \n",
    "wordDFTrain[\"FirstUpperCase\"] = wordDFTrain.apply(lambda x: len(x[\"value\"]), axis = 1)\n",
    "wordDFTest[\"FirstUpperCase\"] = wordDFTest.apply(lambda x: len(x[\"value\"]), axis = 1)"
   ]
  },
  {
   "cell_type": "code",
   "execution_count": 47,
   "metadata": {},
   "outputs": [],
   "source": [
    "# creating feature 5: \n",
    "wordDFTrain[\"AllNos\"] = wordDFTrain.apply(lambda x: x[\"value\"].isdigit(), axis = 1)\n",
    "wordDFTest[\"AllNos\"] = wordDFTest.apply(lambda x: x[\"value\"].isdigit(), axis = 1)"
   ]
  },
  {
   "cell_type": "code",
   "execution_count": 48,
   "metadata": {},
   "outputs": [],
   "source": [
    "# creating feature 6 - If the left word was all Upper Case\n",
    "import math\n",
    "def checkLeftUpper(row):\n",
    "    if row[\"LeftUpperCase\"] and isinstance(row[\"LeftUpperCase\"], str) :\n",
    "        if row[\"LeftUpperCase\"][-1] == \".\":\n",
    "            return False\n",
    "        else:\n",
    "            return row[\"LeftUpperCase\"][0].isupper()\n",
    "    else:\n",
    "        return False\n",
    "wordDFTrain[\"LeftUpperCase\"] = wordDFTrain[\"tokens\"].shift(1, axis = 0) \n",
    "wordDFTest[\"LeftUpperCase\"] = wordDFTest[\"tokens\"].shift(1, axis = 0) \n",
    "wordDFTrain[\"LeftUpperCase\"] = wordDFTrain.apply(lambda x: checkLeftUpper(x), axis = 1)\n",
    "wordDFTest[\"LeftUpperCase\"] = wordDFTest.apply(lambda x: checkLeftUpper(x), axis = 1)"
   ]
  },
  {
   "cell_type": "code",
   "execution_count": 49,
   "metadata": {},
   "outputs": [],
   "source": [
    "# creating feature 7 - If the token is a stopword\n",
    "import nltk\n",
    "from nltk.corpus import stopwords\n",
    "\n",
    "def checkIfStopWord(word):\n",
    "    stopWordSet = set(stopwords.words('english'))\n",
    "    if word[\"value\"] in stopWordSet:\n",
    "        return True\n",
    "    else:\n",
    "        return False\n",
    "wordDFTrain[\"IfStopWord\"] = wordDFTrain.apply(lambda x: checkIfStopWord(x), axis = 1)\n",
    "wordDFTest[\"IfStopWord\"] = wordDFTest.apply(lambda x: checkIfStopWord(x), axis = 1)"
   ]
  },
  {
   "cell_type": "code",
   "execution_count": 50,
   "metadata": {},
   "outputs": [],
   "source": [
    "# creating feature 8 - If the toekn is end of sentence\n",
    "def checkEOS(row):\n",
    "    if row[\"tokens\"] and isinstance(row[\"tokens\"], str) :\n",
    "        if row[\"tokens\"][-1] == \".\":\n",
    "            return True\n",
    "    return False\n",
    "wordDFTrain[\"IfEOS\"] = wordDFTrain.apply(lambda x: checkEOS(x), axis = 1)\n",
    "wordDFTest[\"IfEOS\"] = wordDFTest.apply(lambda x: checkEOS(x), axis = 1)"
   ]
  },
  {
   "cell_type": "code",
   "execution_count": 51,
   "metadata": {},
   "outputs": [],
   "source": [
    "# creating the x and y set for training\n",
    "y_train = wordDFTrain.labels\n",
    "x_train = wordDFTrain.drop([\"tokens\", \"labels\"], axis = 1)"
   ]
  },
  {
   "cell_type": "code",
   "execution_count": 52,
   "metadata": {},
   "outputs": [],
   "source": [
    "# creating the x and y set for testing\n",
    "y_test = wordDFTest.labels\n",
    "x_test = wordDFTest.drop([\"tokens\", \"labels\"], axis = 1)"
   ]
  },
  {
   "cell_type": "code",
   "execution_count": 53,
   "metadata": {},
   "outputs": [],
   "source": [
    "import sklearn\n",
    "from sklearn.tree import DecisionTreeClassifier \n",
    "from sklearn.preprocessing import LabelEncoder"
   ]
  },
  {
   "cell_type": "code",
   "execution_count": 54,
   "metadata": {},
   "outputs": [],
   "source": [
    "import numpy as np\n",
    "x_train = x_train.fillna(value=\"-\")\n",
    "y_train = y_train.fillna(value=\"-\")"
   ]
  },
  {
   "cell_type": "code",
   "execution_count": 55,
   "metadata": {},
   "outputs": [],
   "source": [
    "# encoding the values\n",
    "le = LabelEncoder()\n",
    "x_train[\"value\"] = x_train[\"value\"].astype(str)\n",
    "x_train[\"value\"] = le.fit_transform(x_train[\"value\"])"
   ]
  },
  {
   "cell_type": "code",
   "execution_count": 56,
   "metadata": {},
   "outputs": [],
   "source": [
    "le = LabelEncoder()\n",
    "x_test[\"value\"] = x_test[\"value\"].astype(str)\n",
    "x_test[\"value\"] = le.fit_transform(x_test[\"value\"])"
   ]
  },
  {
   "cell_type": "code",
   "execution_count": 57,
   "metadata": {},
   "outputs": [],
   "source": [
    "Clf = DecisionTreeClassifier(criterion = \"entropy\")\n",
    "Clf = Clf.fit(x_train, y_train)\n",
    "y_pred = Clf.predict(x_test)"
   ]
  },
  {
   "cell_type": "code",
   "execution_count": 58,
   "metadata": {},
   "outputs": [],
   "source": [
    "# y_pred = y_pred.fillna(value=\"-\")\n",
    "y_test = y_test.fillna(value=\"-\")\n",
    "# y_test"
   ]
  },
  {
   "cell_type": "code",
   "execution_count": 59,
   "metadata": {},
   "outputs": [
    {
     "name": "stdout",
     "output_type": "stream",
     "text": [
      "Accuracy for the 8 features: 95.3701235226162\n"
     ]
    }
   ],
   "source": [
    "import sklearn.metrics as metrics\n",
    "print(\"Accuracy for the 8 features:\",metrics.accuracy_score(y_test, y_pred)*100)"
   ]
  }
 ],
 "metadata": {
  "kernelspec": {
   "display_name": "Python 3",
   "language": "python",
   "name": "python3"
  },
  "language_info": {
   "codemirror_mode": {
    "name": "ipython",
    "version": 3
   },
   "file_extension": ".py",
   "mimetype": "text/x-python",
   "name": "python",
   "nbconvert_exporter": "python",
   "pygments_lexer": "ipython3",
   "version": "3.7.7"
  }
 },
 "nbformat": 4,
 "nbformat_minor": 2
}
